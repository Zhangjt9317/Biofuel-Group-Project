{
 "cells": [
  {
   "cell_type": "code",
   "execution_count": 74,
   "metadata": {
    "collapsed": true
   },
   "outputs": [],
   "source": [
    "import pandas as pd\n",
    "import numpy as np\n",
    "import matplotlib.pyplot as plt\n",
    "from sklearn import linear_model\n",
    "from sklearn.model_selection import train_test_split\n",
    "from sklearn.metrics import mean_squared_error\n",
    "from sklearn.metrics import r2_score\n",
    "from sklearn.cross_decomposition import PLSRegression\n",
    "from sklearn.linear_model import Ridge\n",
    "\n",
    "def Database():\n",
    "    \"\"\"compile data sets into a data library, the output will be a DataFrame\"\"\"\n",
    "    data_1 = pd.read_excel('data/Flash Point and Cetane Number Predictions for Fuel Compounds.xls', skiprows=3)\n",
    "    data = data_1[['Name','Family', 'FP Exp.', 'CN Exp.']]\n",
    "    result_1 = data.drop(index=0)\n",
    "    result_1.reset_index(drop=True, inplace=True)\n",
    "    data_2 = pd.read_excel('data/Flash Point and Cetane Number Predictions for Fuel Compounds.xls', skiprows=4)\n",
    "    result_2 = data_2.loc[: , '-H': 'aaCa']\n",
    "    result = pd.concat([result_1, result_2], axis=1)\n",
    "    return result"
   ]
  },
  {
   "cell_type": "code",
   "execution_count": 2,
   "metadata": {
    "collapsed": true
   },
   "outputs": [],
   "source": [
    "df = Database()\n",
    "df = df[np.isfinite(df['FP Exp.'])]"
   ]
  },
  {
   "cell_type": "code",
   "execution_count": 36,
   "metadata": {
    "collapsed": true
   },
   "outputs": [],
   "source": [
    "train, test = train_test_split(df, test_size=0.1)"
   ]
  },
  {
   "cell_type": "code",
   "execution_count": 37,
   "metadata": {},
   "outputs": [
    {
     "name": "stdout",
     "output_type": "stream",
     "text": [
      "intercept 209.47002939884422 \n",
      " coef [ 7.65050471e+00 -7.65229872e+00 -6.20319804e+00 -1.17590457e+01\n",
      " -1.36969845e+01  1.72673101e+00 -8.43366188e+00 -1.01916087e+01\n",
      " -3.33066907e-14  1.42454080e+01  1.73063187e+00  8.82500372e+00\n",
      "  1.12682441e+01  1.20298264e+01  2.19786210e+01  6.70943655e+00\n",
      "  8.01656295e+00  5.30436060e+01 -1.38295056e+00  1.81151879e+01\n",
      "  2.69786688e+01  2.56416618e+01  5.00552170e+01  2.69786688e+01\n",
      "  3.62942214e+01  0.00000000e+00 -1.81790335e+01  0.00000000e+00]\n",
      "Train r^2 0.8506513916138508\n",
      "Test r^2 0.8685042353886101\n",
      "Train error 478.6105580431137\n",
      "Test error 355.0993808181199\n"
     ]
    },
    {
     "data": {
      "image/png": "[encoded data removed]",
      "text/plain": [
       "<matplotlib.figure.Figure at 0x1a1028d588>"
      ]
     },
     "metadata": {},
     "output_type": "display_data"
    }
   ],
   "source": [
    "### Ordinary Least Squares\n",
    "reg = linear_model.LinearRegression()\n",
    "train_X = train.loc[: , '-H': 'aaCa']\n",
    "test_X = test.loc[: , '-H': 'aaCa']\n",
    "reg.fit(train_X, train['FP Exp.'])\n",
    "print('intercept', reg.intercept_, '\\n', 'coef', reg.coef_)\n",
    "train_predict = reg.predict(train_X)\n",
    "test_predict = reg.predict(test_X)\n",
    "plt.scatter(train['FP Exp.'], train_predict)\n",
    "plt.scatter(test['FP Exp.'], test_predict, color='r')\n",
    "plt.plot([200, 550], [200, 550], lw=4, color='black')\n",
    "\n",
    "print(\"Train r^2\", r2_score(train['FP Exp.'], train_predict))\n",
    "print(\"Test r^2\", r2_score(test['FP Exp.'], test_predict))\n",
    "print(\"Train error\", mean_squared_error(train['FP Exp.'], train_predict))\n",
    "print(\"Test error\", mean_squared_error(test['FP Exp.'], test_predict))"
   ]
  },
  {
   "cell_type": "code",
   "execution_count": null,
   "metadata": {
    "collapsed": true
   },
   "outputs": [],
   "source": [
    "###OLS"
   ]
  },
  {
   "cell_type": "code",
   "execution_count": 5,
   "metadata": {},
   "outputs": [
    {
     "name": "stderr",
     "output_type": "stream",
     "text": [
      "/Users/cheng/miniconda3/lib/python3.6/site-packages/statsmodels/compat/pandas.py:56: FutureWarning: The pandas.core.datetools module is deprecated and will be removed in a future version. Please use the pandas.tseries module instead.\n",
      "  from pandas.core import datetools\n"
     ]
    }
   ],
   "source": [
    "import matplotlib.pyplot as plt\n",
    "import numpy as np\n",
    "\n",
    "from sklearn import linear_model\n",
    "from sklearn.metrics import mean_squared_error\n",
    "import statsmodels.api as sm\n",
    "%matplotlib inline"
   ]
  },
  {
   "cell_type": "code",
   "execution_count": 6,
   "metadata": {},
   "outputs": [
    {
     "data": {
      "text/html": [
       "<div>\n",
       "<style scoped>\n",
       "    .dataframe tbody tr th:only-of-type {\n",
       "        vertical-align: middle;\n",
       "    }\n",
       "\n",
       "    .dataframe tbody tr th {\n",
       "        vertical-align: top;\n",
       "    }\n",
       "\n",
       "    .dataframe thead th {\n",
       "        text-align: right;\n",
       "    }\n",
       "</style>\n",
       "<table border=\"1\" class=\"dataframe\">\n",
       "  <thead>\n",
       "    <tr style=\"text-align: right;\">\n",
       "      <th></th>\n",
       "      <th>Name</th>\n",
       "      <th>Family</th>\n",
       "      <th>FP Exp.</th>\n",
       "      <th>CN Exp.</th>\n",
       "      <th>-H</th>\n",
       "      <th>-CH3</th>\n",
       "      <th>-CH2-</th>\n",
       "      <th>&gt;CH-</th>\n",
       "      <th>&gt;C&lt;</th>\n",
       "      <th>=CH2</th>\n",
       "      <th>...</th>\n",
       "      <th>-OH (phenol)</th>\n",
       "      <th>-O-</th>\n",
       "      <th>(-O-)R</th>\n",
       "      <th>aOa</th>\n",
       "      <th>&gt;C=O</th>\n",
       "      <th>(&gt;C=O)R</th>\n",
       "      <th>-CHO</th>\n",
       "      <th>-COOH</th>\n",
       "      <th>-COO-</th>\n",
       "      <th>aaCa</th>\n",
       "    </tr>\n",
       "  </thead>\n",
       "  <tbody>\n",
       "    <tr>\n",
       "      <th>538</th>\n",
       "      <td>methyl octanoate</td>\n",
       "      <td>Esters</td>\n",
       "      <td>342.15</td>\n",
       "      <td>33.6</td>\n",
       "      <td>18</td>\n",
       "      <td>2</td>\n",
       "      <td>6</td>\n",
       "      <td>0</td>\n",
       "      <td>0</td>\n",
       "      <td>0</td>\n",
       "      <td>...</td>\n",
       "      <td>0</td>\n",
       "      <td>1</td>\n",
       "      <td>0</td>\n",
       "      <td>0</td>\n",
       "      <td>1</td>\n",
       "      <td>0</td>\n",
       "      <td>0</td>\n",
       "      <td>0</td>\n",
       "      <td>1</td>\n",
       "      <td>0</td>\n",
       "    </tr>\n",
       "    <tr>\n",
       "      <th>784</th>\n",
       "      <td>2,3-dimethylpent-1-ene</td>\n",
       "      <td>Olefins</td>\n",
       "      <td>256.00</td>\n",
       "      <td>NaN</td>\n",
       "      <td>14</td>\n",
       "      <td>3</td>\n",
       "      <td>1</td>\n",
       "      <td>1</td>\n",
       "      <td>0</td>\n",
       "      <td>1</td>\n",
       "      <td>...</td>\n",
       "      <td>0</td>\n",
       "      <td>0</td>\n",
       "      <td>0</td>\n",
       "      <td>0</td>\n",
       "      <td>0</td>\n",
       "      <td>0</td>\n",
       "      <td>0</td>\n",
       "      <td>0</td>\n",
       "      <td>0</td>\n",
       "      <td>0</td>\n",
       "    </tr>\n",
       "    <tr>\n",
       "      <th>942</th>\n",
       "      <td>2,2,3,4-tetramethylpentane</td>\n",
       "      <td>Paraffins</td>\n",
       "      <td>284.00</td>\n",
       "      <td>NaN</td>\n",
       "      <td>20</td>\n",
       "      <td>6</td>\n",
       "      <td>0</td>\n",
       "      <td>2</td>\n",
       "      <td>1</td>\n",
       "      <td>0</td>\n",
       "      <td>...</td>\n",
       "      <td>0</td>\n",
       "      <td>0</td>\n",
       "      <td>0</td>\n",
       "      <td>0</td>\n",
       "      <td>0</td>\n",
       "      <td>0</td>\n",
       "      <td>0</td>\n",
       "      <td>0</td>\n",
       "      <td>0</td>\n",
       "      <td>0</td>\n",
       "    </tr>\n",
       "    <tr>\n",
       "      <th>1001</th>\n",
       "      <td>3-ethyl-2,3-dimethylpentane</td>\n",
       "      <td>Paraffins</td>\n",
       "      <td>288.00</td>\n",
       "      <td>NaN</td>\n",
       "      <td>20</td>\n",
       "      <td>5</td>\n",
       "      <td>2</td>\n",
       "      <td>1</td>\n",
       "      <td>1</td>\n",
       "      <td>0</td>\n",
       "      <td>...</td>\n",
       "      <td>0</td>\n",
       "      <td>0</td>\n",
       "      <td>0</td>\n",
       "      <td>0</td>\n",
       "      <td>0</td>\n",
       "      <td>0</td>\n",
       "      <td>0</td>\n",
       "      <td>0</td>\n",
       "      <td>0</td>\n",
       "      <td>0</td>\n",
       "    </tr>\n",
       "    <tr>\n",
       "      <th>427</th>\n",
       "      <td>ethyl buta-2,3-dienoate</td>\n",
       "      <td>Esters</td>\n",
       "      <td>320.15</td>\n",
       "      <td>NaN</td>\n",
       "      <td>8</td>\n",
       "      <td>1</td>\n",
       "      <td>1</td>\n",
       "      <td>0</td>\n",
       "      <td>0</td>\n",
       "      <td>1</td>\n",
       "      <td>...</td>\n",
       "      <td>0</td>\n",
       "      <td>1</td>\n",
       "      <td>0</td>\n",
       "      <td>0</td>\n",
       "      <td>1</td>\n",
       "      <td>0</td>\n",
       "      <td>0</td>\n",
       "      <td>0</td>\n",
       "      <td>1</td>\n",
       "      <td>0</td>\n",
       "    </tr>\n",
       "  </tbody>\n",
       "</table>\n",
       "<p>5 rows × 32 columns</p>\n",
       "</div>"
      ],
      "text/plain": [
       "                             Name     Family  FP Exp.  CN Exp.  -H  -CH3  \\\n",
       "538              methyl octanoate     Esters   342.15     33.6  18     2   \n",
       "784        2,3-dimethylpent-1-ene    Olefins   256.00      NaN  14     3   \n",
       "942    2,2,3,4-tetramethylpentane  Paraffins   284.00      NaN  20     6   \n",
       "1001  3-ethyl-2,3-dimethylpentane  Paraffins   288.00      NaN  20     5   \n",
       "427       ethyl buta-2,3-dienoate     Esters   320.15      NaN   8     1   \n",
       "\n",
       "      -CH2-  >CH-  >C<  =CH2  ...   -OH (phenol)  -O-  (-O-)R  aOa  >C=O  \\\n",
       "538       6     0    0     0  ...              0    1       0    0     1   \n",
       "784       1     1    0     1  ...              0    0       0    0     0   \n",
       "942       0     2    1     0  ...              0    0       0    0     0   \n",
       "1001      2     1    1     0  ...              0    0       0    0     0   \n",
       "427       1     0    0     1  ...              0    1       0    0     1   \n",
       "\n",
       "      (>C=O)R  -CHO  -COOH  -COO-  aaCa  \n",
       "538         0     0      0      1     0  \n",
       "784         0     0      0      0     0  \n",
       "942         0     0      0      0     0  \n",
       "1001        0     0      0      0     0  \n",
       "427         0     0      0      1     0  \n",
       "\n",
       "[5 rows x 32 columns]"
      ]
     },
     "execution_count": 6,
     "metadata": {},
     "output_type": "execute_result"
    }
   ],
   "source": [
    "train.head()"
   ]
  },
  {
   "cell_type": "code",
   "execution_count": 39,
   "metadata": {
    "collapsed": true
   },
   "outputs": [],
   "source": [
    "y = train['FP Exp.']\n",
    "x = train.loc[: , '-H': 'aaCa']\n",
    "x = sm.add_constant(x)"
   ]
  },
  {
   "cell_type": "code",
   "execution_count": 40,
   "metadata": {
    "collapsed": true
   },
   "outputs": [],
   "source": [
    "mlr = sm.OLS(y, x).fit()  ###build linear regression model using StatsModels"
   ]
  },
  {
   "cell_type": "code",
   "execution_count": 41,
   "metadata": {},
   "outputs": [
    {
     "name": "stderr",
     "output_type": "stream",
     "text": [
      "/Users/cheng/miniconda3/lib/python3.6/site-packages/statsmodels/base/model.py:1036: RuntimeWarning: invalid value encountered in true_divide\n",
      "  return self.params / self.bse\n",
      "/Users/cheng/miniconda3/lib/python3.6/site-packages/scipy/stats/_distn_infrastructure.py:879: RuntimeWarning: invalid value encountered in greater\n",
      "  return (self.a < x) & (x < self.b)\n",
      "/Users/cheng/miniconda3/lib/python3.6/site-packages/scipy/stats/_distn_infrastructure.py:879: RuntimeWarning: invalid value encountered in less\n",
      "  return (self.a < x) & (x < self.b)\n",
      "/Users/cheng/miniconda3/lib/python3.6/site-packages/scipy/stats/_distn_infrastructure.py:1821: RuntimeWarning: invalid value encountered in less_equal\n",
      "  cond2 = cond0 & (x <= self.a)\n"
     ]
    },
    {
     "data": {
      "text/html": [
       "<table class=\"simpletable\">\n",
       "<caption>OLS Regression Results</caption>\n",
       "<tr>\n",
       "  <th>Dep. Variable:</th>         <td>FP Exp.</td>     <th>  R-squared:         </th> <td>   0.851</td> \n",
       "</tr>\n",
       "<tr>\n",
       "  <th>Model:</th>                   <td>OLS</td>       <th>  Adj. R-squared:    </th> <td>   0.845</td> \n",
       "</tr>\n",
       "<tr>\n",
       "  <th>Method:</th>             <td>Least Squares</td>  <th>  F-statistic:       </th> <td>   140.8</td> \n",
       "</tr>\n",
       "<tr>\n",
       "  <th>Date:</th>             <td>Sat, 03 Mar 2018</td> <th>  Prob (F-statistic):</th> <td>3.59e-208</td>\n",
       "</tr>\n",
       "<tr>\n",
       "  <th>Time:</th>                 <td>23:49:19</td>     <th>  Log-Likelihood:    </th> <td> -2554.0</td> \n",
       "</tr>\n",
       "<tr>\n",
       "  <th>No. Observations:</th>      <td>   567</td>      <th>  AIC:               </th> <td>   5154.</td> \n",
       "</tr>\n",
       "<tr>\n",
       "  <th>Df Residuals:</th>          <td>   544</td>      <th>  BIC:               </th> <td>   5254.</td> \n",
       "</tr>\n",
       "<tr>\n",
       "  <th>Df Model:</th>              <td>    22</td>      <th>                     </th>     <td> </td>    \n",
       "</tr>\n",
       "<tr>\n",
       "  <th>Covariance Type:</th>      <td>nonrobust</td>    <th>                     </th>     <td> </td>    \n",
       "</tr>\n",
       "</table>\n",
       "<table class=\"simpletable\">\n",
       "<tr>\n",
       "        <td></td>           <th>coef</th>     <th>std err</th>      <th>t</th>      <th>P>|t|</th>  <th>[0.025</th>    <th>0.975]</th>  \n",
       "</tr>\n",
       "<tr>\n",
       "  <th>const</th>         <td>  209.4700</td> <td>   11.482</td> <td>   18.244</td> <td> 0.000</td> <td>  186.916</td> <td>  232.024</td>\n",
       "</tr>\n",
       "<tr>\n",
       "  <th>-H</th>            <td>    7.6505</td> <td>    1.397</td> <td>    5.478</td> <td> 0.000</td> <td>    4.907</td> <td>   10.394</td>\n",
       "</tr>\n",
       "<tr>\n",
       "  <th>-CH3</th>          <td>   -7.6523</td> <td>    1.778</td> <td>   -4.303</td> <td> 0.000</td> <td>  -11.146</td> <td>   -4.159</td>\n",
       "</tr>\n",
       "<tr>\n",
       "  <th>-CH2-</th>         <td>   -6.2032</td> <td>    2.794</td> <td>   -2.220</td> <td> 0.027</td> <td>  -11.691</td> <td>   -0.715</td>\n",
       "</tr>\n",
       "<tr>\n",
       "  <th>>CH-</th>          <td>  -11.7590</td> <td>    7.201</td> <td>   -1.633</td> <td> 0.103</td> <td>  -25.905</td> <td>    2.387</td>\n",
       "</tr>\n",
       "<tr>\n",
       "  <th>>C<</th>           <td>  -13.6970</td> <td>   11.658</td> <td>   -1.175</td> <td> 0.241</td> <td>  -36.598</td> <td>    9.204</td>\n",
       "</tr>\n",
       "<tr>\n",
       "  <th>=CH2</th>          <td>    1.7267</td> <td>    3.620</td> <td>    0.477</td> <td> 0.634</td> <td>   -5.384</td> <td>    8.837</td>\n",
       "</tr>\n",
       "<tr>\n",
       "  <th>=CH-</th>          <td>   -8.4337</td> <td>    1.659</td> <td>   -5.085</td> <td> 0.000</td> <td>  -11.692</td> <td>   -5.175</td>\n",
       "</tr>\n",
       "<tr>\n",
       "  <th>=C<</th>           <td>  -10.1916</td> <td>    7.005</td> <td>   -1.455</td> <td> 0.146</td> <td>  -23.951</td> <td>    3.568</td>\n",
       "</tr>\n",
       "<tr>\n",
       "  <th>#CH</th>           <td>-2.274e-14</td> <td> 3.07e-14</td> <td>   -0.740</td> <td> 0.460</td> <td>-8.31e-14</td> <td> 3.77e-14</td>\n",
       "</tr>\n",
       "<tr>\n",
       "  <th>#C-</th>           <td>   14.2454</td> <td>   22.649</td> <td>    0.629</td> <td> 0.530</td> <td>  -30.244</td> <td>   58.735</td>\n",
       "</tr>\n",
       "<tr>\n",
       "  <th>(-CH2-)R</th>      <td>    1.7306</td> <td>    1.692</td> <td>    1.023</td> <td> 0.307</td> <td>   -1.592</td> <td>    5.053</td>\n",
       "</tr>\n",
       "<tr>\n",
       "  <th>(>CH-)R</th>       <td>    8.8250</td> <td>    4.582</td> <td>    1.926</td> <td> 0.055</td> <td>   -0.175</td> <td>   17.825</td>\n",
       "</tr>\n",
       "<tr>\n",
       "  <th>(>C<)R</th>        <td>   11.2682</td> <td>   10.711</td> <td>    1.052</td> <td> 0.293</td> <td>   -9.772</td> <td>   32.309</td>\n",
       "</tr>\n",
       "<tr>\n",
       "  <th>(=CH-)R</th>       <td>   12.0298</td> <td>    2.449</td> <td>    4.912</td> <td> 0.000</td> <td>    7.219</td> <td>   16.840</td>\n",
       "</tr>\n",
       "<tr>\n",
       "  <th>(=C<)R</th>        <td>   21.9786</td> <td>    7.652</td> <td>    2.872</td> <td> 0.004</td> <td>    6.948</td> <td>   37.009</td>\n",
       "</tr>\n",
       "<tr>\n",
       "  <th>aCHa</th>          <td>    6.7094</td> <td>    0.866</td> <td>    7.745</td> <td> 0.000</td> <td>    5.008</td> <td>    8.411</td>\n",
       "</tr>\n",
       "<tr>\n",
       "  <th>saCa</th>          <td>    8.0166</td> <td>    4.179</td> <td>    1.918</td> <td> 0.056</td> <td>   -0.193</td> <td>   16.226</td>\n",
       "</tr>\n",
       "<tr>\n",
       "  <th>-OH (alcohol)</th> <td>   53.0436</td> <td>    4.485</td> <td>   11.826</td> <td> 0.000</td> <td>   44.233</td> <td>   61.854</td>\n",
       "</tr>\n",
       "<tr>\n",
       "  <th>-OH (phenol)</th>  <td>   -1.3830</td> <td>    2.344</td> <td>   -0.590</td> <td> 0.555</td> <td>   -5.987</td> <td>    3.221</td>\n",
       "</tr>\n",
       "<tr>\n",
       "  <th>-O-</th>           <td>   18.1152</td> <td>    7.974</td> <td>    2.272</td> <td> 0.023</td> <td>    2.452</td> <td>   33.778</td>\n",
       "</tr>\n",
       "<tr>\n",
       "  <th>(-O-)R</th>        <td>   26.9787</td> <td>    6.837</td> <td>    3.946</td> <td> 0.000</td> <td>   13.549</td> <td>   40.408</td>\n",
       "</tr>\n",
       "<tr>\n",
       "  <th>aOa</th>           <td>   25.6417</td> <td>   22.764</td> <td>    1.126</td> <td> 0.260</td> <td>  -19.075</td> <td>   70.359</td>\n",
       "</tr>\n",
       "<tr>\n",
       "  <th>>C=O</th>          <td>   50.0552</td> <td>   23.740</td> <td>    2.109</td> <td> 0.035</td> <td>    3.423</td> <td>   96.688</td>\n",
       "</tr>\n",
       "<tr>\n",
       "  <th>(>C=O)R</th>       <td>   26.9787</td> <td>    6.837</td> <td>    3.946</td> <td> 0.000</td> <td>   13.549</td> <td>   40.408</td>\n",
       "</tr>\n",
       "<tr>\n",
       "  <th>-CHO</th>          <td>   36.2942</td> <td>    9.192</td> <td>    3.949</td> <td> 0.000</td> <td>   18.239</td> <td>   54.350</td>\n",
       "</tr>\n",
       "<tr>\n",
       "  <th>-COOH</th>         <td>         0</td> <td>        0</td> <td>      nan</td> <td>   nan</td> <td>        0</td> <td>        0</td>\n",
       "</tr>\n",
       "<tr>\n",
       "  <th>-COO-</th>         <td>  -18.1790</td> <td>   15.198</td> <td>   -1.196</td> <td> 0.232</td> <td>  -48.033</td> <td>   11.675</td>\n",
       "</tr>\n",
       "<tr>\n",
       "  <th>aaCa</th>          <td>         0</td> <td>        0</td> <td>      nan</td> <td>   nan</td> <td>        0</td> <td>        0</td>\n",
       "</tr>\n",
       "</table>\n",
       "<table class=\"simpletable\">\n",
       "<tr>\n",
       "  <th>Omnibus:</th>       <td>185.968</td> <th>  Durbin-Watson:     </th> <td>   1.979</td> \n",
       "</tr>\n",
       "<tr>\n",
       "  <th>Prob(Omnibus):</th> <td> 0.000</td>  <th>  Jarque-Bera (JB):  </th> <td>1382.852</td> \n",
       "</tr>\n",
       "<tr>\n",
       "  <th>Skew:</th>          <td>-1.238</td>  <th>  Prob(JB):          </th> <td>5.22e-301</td>\n",
       "</tr>\n",
       "<tr>\n",
       "  <th>Kurtosis:</th>      <td>10.239</td>  <th>  Cond. No.          </th> <td>1.12e+16</td> \n",
       "</tr>\n",
       "</table>"
      ],
      "text/plain": [
       "<class 'statsmodels.iolib.summary.Summary'>\n",
       "\"\"\"\n",
       "                            OLS Regression Results                            \n",
       "==============================================================================\n",
       "Dep. Variable:                FP Exp.   R-squared:                       0.851\n",
       "Model:                            OLS   Adj. R-squared:                  0.845\n",
       "Method:                 Least Squares   F-statistic:                     140.8\n",
       "Date:                Sat, 03 Mar 2018   Prob (F-statistic):          3.59e-208\n",
       "Time:                        23:49:19   Log-Likelihood:                -2554.0\n",
       "No. Observations:                 567   AIC:                             5154.\n",
       "Df Residuals:                     544   BIC:                             5254.\n",
       "Df Model:                          22                                         \n",
       "Covariance Type:            nonrobust                                         \n",
       "=================================================================================\n",
       "                    coef    std err          t      P>|t|      [0.025      0.975]\n",
       "---------------------------------------------------------------------------------\n",
       "const           209.4700     11.482     18.244      0.000     186.916     232.024\n",
       "-H                7.6505      1.397      5.478      0.000       4.907      10.394\n",
       "-CH3             -7.6523      1.778     -4.303      0.000     -11.146      -4.159\n",
       "-CH2-            -6.2032      2.794     -2.220      0.027     -11.691      -0.715\n",
       ">CH-            -11.7590      7.201     -1.633      0.103     -25.905       2.387\n",
       ">C<             -13.6970     11.658     -1.175      0.241     -36.598       9.204\n",
       "=CH2              1.7267      3.620      0.477      0.634      -5.384       8.837\n",
       "=CH-             -8.4337      1.659     -5.085      0.000     -11.692      -5.175\n",
       "=C<             -10.1916      7.005     -1.455      0.146     -23.951       3.568\n",
       "#CH           -2.274e-14   3.07e-14     -0.740      0.460   -8.31e-14    3.77e-14\n",
       "#C-              14.2454     22.649      0.629      0.530     -30.244      58.735\n",
       "(-CH2-)R          1.7306      1.692      1.023      0.307      -1.592       5.053\n",
       "(>CH-)R           8.8250      4.582      1.926      0.055      -0.175      17.825\n",
       "(>C<)R           11.2682     10.711      1.052      0.293      -9.772      32.309\n",
       "(=CH-)R          12.0298      2.449      4.912      0.000       7.219      16.840\n",
       "(=C<)R           21.9786      7.652      2.872      0.004       6.948      37.009\n",
       "aCHa              6.7094      0.866      7.745      0.000       5.008       8.411\n",
       "saCa              8.0166      4.179      1.918      0.056      -0.193      16.226\n",
       "-OH (alcohol)    53.0436      4.485     11.826      0.000      44.233      61.854\n",
       "-OH (phenol)     -1.3830      2.344     -0.590      0.555      -5.987       3.221\n",
       "-O-              18.1152      7.974      2.272      0.023       2.452      33.778\n",
       "(-O-)R           26.9787      6.837      3.946      0.000      13.549      40.408\n",
       "aOa              25.6417     22.764      1.126      0.260     -19.075      70.359\n",
       ">C=O             50.0552     23.740      2.109      0.035       3.423      96.688\n",
       "(>C=O)R          26.9787      6.837      3.946      0.000      13.549      40.408\n",
       "-CHO             36.2942      9.192      3.949      0.000      18.239      54.350\n",
       "-COOH                  0          0        nan        nan           0           0\n",
       "-COO-           -18.1790     15.198     -1.196      0.232     -48.033      11.675\n",
       "aaCa                   0          0        nan        nan           0           0\n",
       "==============================================================================\n",
       "Omnibus:                      185.968   Durbin-Watson:                   1.979\n",
       "Prob(Omnibus):                  0.000   Jarque-Bera (JB):             1382.852\n",
       "Skew:                          -1.238   Prob(JB):                    5.22e-301\n",
       "Kurtosis:                      10.239   Cond. No.                     1.12e+16\n",
       "==============================================================================\n",
       "\n",
       "Warnings:\n",
       "[1] Standard Errors assume that the covariance matrix of the errors is correctly specified.\n",
       "[2] The smallest eigenvalue is 1.74e-27. This might indicate that there are\n",
       "strong multicollinearity problems or that the design matrix is singular.\n",
       "\"\"\""
      ]
     },
     "execution_count": 41,
     "metadata": {},
     "output_type": "execute_result"
    }
   ],
   "source": [
    "mlr.summary()"
   ]
  },
  {
   "cell_type": "markdown",
   "metadata": {},
   "source": [
    "####According to the result, we can see the F factor is large, which shows relation between Flash point and functional groups. According to t-test, #C- and -OH (phenol) is not good descriptors, so we decide to remove them."
   ]
  },
  {
   "cell_type": "code",
   "execution_count": 42,
   "metadata": {
    "collapsed": true
   },
   "outputs": [],
   "source": [
    "x_test = test.loc[: , '-H': 'aaCa']\n",
    "x_test = sm.add_constant(x_test)\n",
    "fp_pre = mlr.predict(x_test)"
   ]
  },
  {
   "cell_type": "code",
   "execution_count": 43,
   "metadata": {},
   "outputs": [
    {
     "data": {
      "text/plain": [
       "355.09938081813334"
      ]
     },
     "execution_count": 43,
     "metadata": {},
     "output_type": "execute_result"
    }
   ],
   "source": [
    "mean_squared_error(test['FP Exp.'], fp_pre)"
   ]
  },
  {
   "cell_type": "code",
   "execution_count": 46,
   "metadata": {},
   "outputs": [
    {
     "name": "stderr",
     "output_type": "stream",
     "text": [
      "/Users/cheng/miniconda3/lib/python3.6/site-packages/sklearn/cross_decomposition/pls_.py:313: UserWarning: X scores are null at iteration 22\n",
      "  warnings.warn('X scores are null at iteration %s' % k)\n"
     ]
    }
   ],
   "source": [
    "### Partial Least Squares (PLS)\n",
    "r_2_train = []\n",
    "r_2_test = []\n",
    "mse_train = []\n",
    "mse_test = []\n",
    "for i in np.arange(1, len(train_X.columns)+1):\n",
    "    pls = PLSRegression(n_components=i)\n",
    "    pls.fit(train_X, train['FP Exp.'])\n",
    "    train_predict = pls.predict(train_X)\n",
    "    test_predict = pls.predict(test_X)\n",
    "    r_2_train.append(r2_score(train['FP Exp.'], train_predict))\n",
    "    r_2_test.append(r2_score(test['FP Exp.'], test_predict))\n",
    "    mse_train.append(mean_squared_error(train['FP Exp.'], train_predict))\n",
    "    mse_test.append(mean_squared_error(test['FP Exp.'], test_predict))"
   ]
  },
  {
   "cell_type": "code",
   "execution_count": 48,
   "metadata": {},
   "outputs": [
    {
     "data": {
      "text/plain": [
       "Text(0.5,1,'error vs n_components')"
      ]
     },
     "execution_count": 48,
     "metadata": {},
     "output_type": "execute_result"
    },
    {
     "data": {
      "image/png": "[encoded data removed]",
      "text/plain": [
       "<matplotlib.figure.Figure at 0x1a0f64b0f0>"
      ]
     },
     "metadata": {},
     "output_type": "display_data"
    }
   ],
   "source": [
    "#result = pd.DataFrame([r_2_train, r_2_test, mse_train, mse_test], index=['r_2_train', 'r_2_test', 'mse_train', 'mse_test'], \n",
    "#                      columns=np.arange(1, 29))\n",
    "#result\n",
    "\n",
    "x = np.arange(1, len(train_X.columns)+1)\n",
    "plt.plot(x, mse_train, label='train error')\n",
    "plt.plot(x, mse_test, label='test error')\n",
    "plt.legend(loc=1)\n",
    "plt.title('error vs n_components')\n"
   ]
  },
  {
   "cell_type": "code",
   "execution_count": 100,
   "metadata": {
    "collapsed": true
   },
   "outputs": [],
   "source": [
    "#Ridge Regression\n",
    "train1 = train.loc[ : , 'FP Exp.':]\n",
    "test1 = test.loc[ : , 'FP Exp.':]\n",
    "train_normalized = train1 / train1.std()\n",
    "test_normalized = test1 / test1.std()\n",
    "train_normalized = train_normalized.dropna(axis=1, how='all')\n",
    "test_normalized = test_normalized.dropna(axis=1, how='all')"
   ]
  },
  {
   "cell_type": "code",
   "execution_count": 101,
   "metadata": {},
   "outputs": [
    {
     "ename": "ValueError",
     "evalue": "shapes (64,22) and (25,) not aligned: 22 (dim 1) != 25 (dim 0)",
     "output_type": "error",
     "traceback": [
      "\u001b[0;31m---------------------------------------------------------------------------\u001b[0m",
      "\u001b[0;31mValueError\u001b[0m                                Traceback (most recent call last)",
      "\u001b[0;32m<ipython-input-101-118a7664d063>\u001b[0m in \u001b[0;36m<module>\u001b[0;34m()\u001b[0m\n\u001b[1;32m     15\u001b[0m         train_normalized.loc[ : , '-H':])))\n\u001b[1;32m     16\u001b[0m     testerror.append(mean_squared_error(test_normalized['FP Exp.'], model.predict(\n\u001b[0;32m---> 17\u001b[0;31m         test_normalized.loc[ : , '-H':])))\n\u001b[0m",
      "\u001b[0;32m~/miniconda3/lib/python3.6/site-packages/sklearn/linear_model/base.py\u001b[0m in \u001b[0;36mpredict\u001b[0;34m(self, X)\u001b[0m\n\u001b[1;32m    254\u001b[0m             \u001b[0mReturns\u001b[0m \u001b[0mpredicted\u001b[0m \u001b[0mvalues\u001b[0m\u001b[0;34m.\u001b[0m\u001b[0;34m\u001b[0m\u001b[0m\n\u001b[1;32m    255\u001b[0m         \"\"\"\n\u001b[0;32m--> 256\u001b[0;31m         \u001b[0;32mreturn\u001b[0m \u001b[0mself\u001b[0m\u001b[0;34m.\u001b[0m\u001b[0m_decision_function\u001b[0m\u001b[0;34m(\u001b[0m\u001b[0mX\u001b[0m\u001b[0;34m)\u001b[0m\u001b[0;34m\u001b[0m\u001b[0m\n\u001b[0m\u001b[1;32m    257\u001b[0m \u001b[0;34m\u001b[0m\u001b[0m\n\u001b[1;32m    258\u001b[0m     \u001b[0m_preprocess_data\u001b[0m \u001b[0;34m=\u001b[0m \u001b[0mstaticmethod\u001b[0m\u001b[0;34m(\u001b[0m\u001b[0m_preprocess_data\u001b[0m\u001b[0;34m)\u001b[0m\u001b[0;34m\u001b[0m\u001b[0m\n",
      "\u001b[0;32m~/miniconda3/lib/python3.6/site-packages/sklearn/linear_model/base.py\u001b[0m in \u001b[0;36m_decision_function\u001b[0;34m(self, X)\u001b[0m\n\u001b[1;32m    239\u001b[0m         \u001b[0mX\u001b[0m \u001b[0;34m=\u001b[0m \u001b[0mcheck_array\u001b[0m\u001b[0;34m(\u001b[0m\u001b[0mX\u001b[0m\u001b[0;34m,\u001b[0m \u001b[0maccept_sparse\u001b[0m\u001b[0;34m=\u001b[0m\u001b[0;34m[\u001b[0m\u001b[0;34m'csr'\u001b[0m\u001b[0;34m,\u001b[0m \u001b[0;34m'csc'\u001b[0m\u001b[0;34m,\u001b[0m \u001b[0;34m'coo'\u001b[0m\u001b[0;34m]\u001b[0m\u001b[0;34m)\u001b[0m\u001b[0;34m\u001b[0m\u001b[0m\n\u001b[1;32m    240\u001b[0m         return safe_sparse_dot(X, self.coef_.T,\n\u001b[0;32m--> 241\u001b[0;31m                                dense_output=True) + self.intercept_\n\u001b[0m\u001b[1;32m    242\u001b[0m \u001b[0;34m\u001b[0m\u001b[0m\n\u001b[1;32m    243\u001b[0m     \u001b[0;32mdef\u001b[0m \u001b[0mpredict\u001b[0m\u001b[0;34m(\u001b[0m\u001b[0mself\u001b[0m\u001b[0;34m,\u001b[0m \u001b[0mX\u001b[0m\u001b[0;34m)\u001b[0m\u001b[0;34m:\u001b[0m\u001b[0;34m\u001b[0m\u001b[0m\n",
      "\u001b[0;32m~/miniconda3/lib/python3.6/site-packages/sklearn/utils/extmath.py\u001b[0m in \u001b[0;36msafe_sparse_dot\u001b[0;34m(a, b, dense_output)\u001b[0m\n\u001b[1;32m    138\u001b[0m         \u001b[0;32mreturn\u001b[0m \u001b[0mret\u001b[0m\u001b[0;34m\u001b[0m\u001b[0m\n\u001b[1;32m    139\u001b[0m     \u001b[0;32melse\u001b[0m\u001b[0;34m:\u001b[0m\u001b[0;34m\u001b[0m\u001b[0m\n\u001b[0;32m--> 140\u001b[0;31m         \u001b[0;32mreturn\u001b[0m \u001b[0mnp\u001b[0m\u001b[0;34m.\u001b[0m\u001b[0mdot\u001b[0m\u001b[0;34m(\u001b[0m\u001b[0ma\u001b[0m\u001b[0;34m,\u001b[0m \u001b[0mb\u001b[0m\u001b[0;34m)\u001b[0m\u001b[0;34m\u001b[0m\u001b[0m\n\u001b[0m\u001b[1;32m    141\u001b[0m \u001b[0;34m\u001b[0m\u001b[0m\n\u001b[1;32m    142\u001b[0m \u001b[0;34m\u001b[0m\u001b[0m\n",
      "\u001b[0;31mValueError\u001b[0m: shapes (64,22) and (25,) not aligned: 22 (dim 1) != 25 (dim 0)"
     ]
    }
   ],
   "source": [
    "# RR vs lambda (based on sklearn tutorial)\n",
    "coefs = []\n",
    "trainerror = []\n",
    "testerror = []\n",
    "\n",
    "lambdas = np.logspace(-6 ,6, 200)\n",
    "model=Ridge()\n",
    "\n",
    "# loop over lambda values (strength of regularization)\n",
    "for l in lambdas:\n",
    "    model.set_params(alpha=l)\n",
    "    model.fit(train_normalized.loc[ : , '-H':], train_normalized['FP Exp.'])\n",
    "    coefs.append(model.coef_)\n",
    "    trainerror.append(mean_squared_error(train_normalized['FP Exp.'], model.predict(\n",
    "        train_normalized.loc[ : , '-H':])))\n",
    "    testerror.append(mean_squared_error(test_normalized['FP Exp.'], model.predict(\n",
    "        test_normalized.loc[ : , '-H':])))"
   ]
  },
  {
   "cell_type": "code",
   "execution_count": null,
   "metadata": {
    "collapsed": true
   },
   "outputs": [],
   "source": []
  }
 ],
 "metadata": {
  "kernelspec": {
   "display_name": "Python 3",
   "language": "python",
   "name": "python3"
  },
  "language_info": {
   "codemirror_mode": {
    "name": "ipython",
    "version": 3
   },
   "file_extension": ".py",
   "mimetype": "text/x-python",
   "name": "python",
   "nbconvert_exporter": "python",
   "pygments_lexer": "ipython3",
   "version": "3.6.3"
  }
 },
 "nbformat": 4,
 "nbformat_minor": 2
}
