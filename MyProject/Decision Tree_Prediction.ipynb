{
 "cells": [
  {
   "cell_type": "code",
   "execution_count": 1,
   "metadata": {},
   "outputs": [],
   "source": [
    "import pandas as pd\n",
    "\n",
    "def Database():\n",
    "    \"\"\"compile data sets into a data library, the output will be a DataFrame\"\"\"\n",
    "    data_1 = pd.read_excel('data/Flash Point and Cetane Number Predictions for Fuel Compounds.xls', skiprows=3) ###load data\n",
    "    data = data_1[['Name','Family', 'FP Exp.', 'CN Exp.']]  ###select columns\n",
    "    result_1 = data.drop(index=0)   ###rearrange the index\n",
    "    result_1.reset_index(drop=True, inplace=True)\n",
    "    names = ['Name', 'Family', 'Flash Point', 'Cetane Number']   ###rename columns\n",
    "    result_1.columns = names\n",
    "    data_2 = pd.read_excel('data/Flash Point and Cetane Number Predictions for Fuel Compounds.xls', skiprows=4)\n",
    "    result_2 = data_2.loc[: , '-H': 'aaCa']   ###select specific columns\n",
    "    smarts = [\"[H]\", \"[CX4H3]\", \"[CX4H2]\", \"[CX4H1]\", \"[CX4H0]\", \"[CX3H2]\", \"[CX3H1]\", \"[CX3H0]\", \"[CX2H1]\",\"[CX2H0]\", \"[CX4H2R]\", \"[CX4H1R]\", \"[CX4H0R]\",\"[CX3H1R]\",\"[CX3H0R]\",\"[cX3H1](:*):*\", \"[cX3H0](:*)(:*)*\", \"[OX2H1]\", \"[OX2H1][cX3]:[c]\", \"[OX2H0]\", \"[OX2H0R]\", \"[oX2H0](:*):*\", \"[CX3H0]=[O]\", \"[CX3H0R]=[O]\", \"[CX3H1]=[O]\", \"[CX3H0](=[O])[OX2H1]\", \"[CX3H0](=[O])[OX2H0]\", \"[cX3H0](:*)(:*):*\"]   ###rename functional groups to SMARTS\n",
    "    result_2.columns = smarts\n",
    "    result = pd.concat([result_1, result_2], axis=1)   ###combine two dataframes into one dataframe\n",
    "    return result"
   ]
  },
  {
   "cell_type": "code",
   "execution_count": 11,
   "metadata": {},
   "outputs": [],
   "source": [
    "import numpy as np\n",
    "import matplotlib.pyplot as plt\n",
    "%matplotlib inline\n",
    "import pandas as pd\n",
    "\n",
    "from sklearn import linear_model\n",
    "from pandas.tools.plotting import scatter_matrix\n",
    "from sklearn.model_selection import train_test_split\n",
    "from sklearn.metrics import mean_squared_error\n",
    "from sklearn.linear_model import Ridge\n",
    "from sklearn import tree"
   ]
  },
  {
   "cell_type": "code",
   "execution_count": 38,
   "metadata": {},
   "outputs": [],
   "source": [
    "df = Database()\n",
    "df = df[np.isfinite(df['Flash Point'])]"
   ]
  },
  {
   "cell_type": "code",
   "execution_count": 39,
   "metadata": {},
   "outputs": [],
   "source": [
    "train, test = train_test_split(df, test_size=0.1)"
   ]
  },
  {
   "cell_type": "code",
   "execution_count": 40,
   "metadata": {},
   "outputs": [
    {
     "data": {
      "text/plain": [
       "DecisionTreeRegressor(criterion='mse', max_depth=3, max_features=None,\n",
       "           max_leaf_nodes=None, min_impurity_decrease=0.0,\n",
       "           min_impurity_split=None, min_samples_leaf=1,\n",
       "           min_samples_split=2, min_weight_fraction_leaf=0.0,\n",
       "           presort=False, random_state=None, splitter='best')"
      ]
     },
     "execution_count": 40,
     "metadata": {},
     "output_type": "execute_result"
    }
   ],
   "source": [
    "DT = tree.DecisionTreeRegressor(max_depth=3)\n",
    "DT.fit(train[train.columns[4:]], train['Flash Point'])"
   ]
  },
  {
   "cell_type": "code",
   "execution_count": 41,
   "metadata": {},
   "outputs": [
    {
     "name": "stdout",
     "output_type": "stream",
     "text": [
      "Train error 1394.0896850189233\n",
      "Test error 1074.515725416797\n"
     ]
    },
    {
     "data": {
      "image/png": "[encoded data removed]",
      "text/plain": [
       "<matplotlib.figure.Figure at 0x110d2ab38>"
      ]
     },
     "metadata": {},
     "output_type": "display_data"
    }
   ],
   "source": [
    "# make predictions on test and train set \n",
    "trainpred = DT.predict(train[train.columns[4:]])\n",
    "testpred = DT.predict(test[test.columns[4:]])\n",
    "\n",
    "#parity plot \n",
    "plt.figure(figsize=(4,4))\n",
    "#plt.xlim([0,50]);\n",
    "#plt.ylim([0,50]);\n",
    "plt.scatter(train['Flash Point'], trainpred)\n",
    "plt.scatter(test['Flash Point'], testpred, color='r')\n",
    "#plt.plot([0,50],[0,50],lw=4,color='black')\n",
    "\n",
    "#calculate the test and train error\n",
    "print(\"Train error\",mean_squared_error(train['Flash Point'], trainpred))\n",
    "print(\"Test error\",mean_squared_error(test['Flash Point'], testpred))"
   ]
  },
  {
   "cell_type": "code",
   "execution_count": 42,
   "metadata": {},
   "outputs": [],
   "source": [
    "trainerror = []\n",
    "testerror = []\n",
    "\n",
    "trees = np.arange(1,20,1)\n",
    "\n",
    "for t in trees:\n",
    "    model = tree.DecisionTreeRegressor(max_depth=t)\n",
    "    DT.fit(train[train.columns[4:]], train['Flash Point'])\n",
    "    trainpred = DT.predict(train[train.columns[4:]])\n",
    "    testpred = DT.predict(test[test.columns[4:]])\n",
    "    trainerror.append(mean_squared_error(train['Flash Point'], trainpred))\n",
    "    testerror.append(mean_squared_error(test['Flash Point'], testpred))"
   ]
  },
  {
   "cell_type": "code",
   "execution_count": 43,
   "metadata": {},
   "outputs": [
    {
     "data": {
      "text/plain": [
       "Text(0,0.5,'MSE for $Flash Point$')"
      ]
     },
     "execution_count": 43,
     "metadata": {},
     "output_type": "execute_result"
    },
    {
     "data": {
      "image/png": "[encoded data removed]",
      "text/plain": [
       "<matplotlib.figure.Figure at 0x110d2a3c8>"
      ]
     },
     "metadata": {},
     "output_type": "display_data"
    }
   ],
   "source": [
    "plt.figure(figsize=(12,6))\n",
    "plt.plot(trees, trainerror,marker='o',label='testerror')\n",
    "plt.plot(trees, testerror,marker=\"s\",label='trainerror')\n",
    "plt.legend()\n",
    "plt.xlabel('Max tree depth')\n",
    "plt.ylabel('MSE for $Flash Point$')"
   ]
  }
 ],
 "metadata": {
  "kernelspec": {
   "display_name": "Python 3",
   "language": "python",
   "name": "python3"
  },
  "language_info": {
   "codemirror_mode": {
    "name": "ipython",
    "version": 3
   },
   "file_extension": ".py",
   "mimetype": "text/x-python",
   "name": "python",
   "nbconvert_exporter": "python",
   "pygments_lexer": "ipython3",
   "version": "3.6.4"
  }
 },
 "nbformat": 4,
 "nbformat_minor": 2
}
