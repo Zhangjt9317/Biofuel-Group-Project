{
 "cells": [
  {
   "cell_type": "code",
   "execution_count": 37,
   "metadata": {
    "collapsed": true
   },
   "outputs": [],
   "source": [
    "import numpy as np\n",
    "import pandas as pd \n",
    "import matplotlib.pyplot as plt\n",
    "from sklearn.model_selection import train_test_split\n",
    "from sklearn.metrics import mean_squared_error\n",
    "from sklearn.metrics import r2_score\n",
    "from sklearn.neighbors import KNeighborsClassifier\n",
    "from sklearn import metrics\n",
    "from sklearn.svm import LinearSVC\n",
    "%matplotlib inline\n",
    "\n",
    "def Database():\n",
    "    \"\"\"compile data sets into a data library, the output will be a DataFrame\"\"\"\n",
    "    data_1 = pd.read_excel('data/Flash Point and Cetane Number Predictions for Fuel Compounds.xls', skiprows=3)\n",
    "    data = data_1[['Name','Family', 'FP Exp.', 'CN Exp.']]\n",
    "    result_1 = data.drop(index=0)\n",
    "    result_1.reset_index(drop=True, inplace=True)\n",
    "    data_2 = pd.read_excel('data/Flash Point and Cetane Number Predictions for Fuel Compounds.xls', skiprows=4)\n",
    "    result_2 = data_2.loc[: , '-H': 'aaCa']\n",
    "    result = pd.concat([result_1, result_2], axis=1)\n",
    "    return result"
   ]
  },
  {
   "cell_type": "markdown",
   "metadata": {},
   "source": [
    "## data clean"
   ]
  },
  {
   "cell_type": "code",
   "execution_count": 61,
   "metadata": {
    "scrolled": false
   },
   "outputs": [],
   "source": [
    "def data_clean():\n",
    "    \"\"\"split data and generate train & test subset\"\"\"\n",
    "    df = Database()\n",
    "    train, test = train_test_split(df, test_size=0.1)\n",
    "    a = train.loc[:,'-H': 'aaCa']\n",
    "    X_train = a.mask(a>0, 1)\n",
    "    y_train = train['Family']\n",
    "\n",
    "    b = test.loc[:,'-H': 'aaCa']\n",
    "    X_test = b.mask(b>0, 1)\n",
    "    y_test = test['Family']\n",
    "    return X_train, y_train, X_test, y_test\n",
    "\n",
    "X_train, y_train, X_test, y_test = data_clean()"
   ]
  },
  {
   "cell_type": "code",
   "execution_count": 62,
   "metadata": {},
   "outputs": [
    {
     "data": {
      "text/html": [
       "<div>\n",
       "<style scoped>\n",
       "    .dataframe tbody tr th:only-of-type {\n",
       "        vertical-align: middle;\n",
       "    }\n",
       "\n",
       "    .dataframe tbody tr th {\n",
       "        vertical-align: top;\n",
       "    }\n",
       "\n",
       "    .dataframe thead th {\n",
       "        text-align: right;\n",
       "    }\n",
       "</style>\n",
       "<table border=\"1\" class=\"dataframe\">\n",
       "  <thead>\n",
       "    <tr style=\"text-align: right;\">\n",
       "      <th></th>\n",
       "      <th>Name</th>\n",
       "      <th>Family</th>\n",
       "      <th>FP Exp.</th>\n",
       "      <th>CN Exp.</th>\n",
       "      <th>-H</th>\n",
       "      <th>-CH3</th>\n",
       "      <th>-CH2-</th>\n",
       "      <th>&gt;CH-</th>\n",
       "      <th>&gt;C&lt;</th>\n",
       "      <th>=CH2</th>\n",
       "      <th>...</th>\n",
       "      <th>-OH (phenol)</th>\n",
       "      <th>-O-</th>\n",
       "      <th>(-O-)R</th>\n",
       "      <th>aOa</th>\n",
       "      <th>&gt;C=O</th>\n",
       "      <th>(&gt;C=O)R</th>\n",
       "      <th>-CHO</th>\n",
       "      <th>-COOH</th>\n",
       "      <th>-COO-</th>\n",
       "      <th>aaCa</th>\n",
       "    </tr>\n",
       "  </thead>\n",
       "  <tbody>\n",
       "    <tr>\n",
       "      <th>524</th>\n",
       "      <td>methyl decanoate</td>\n",
       "      <td>Esters</td>\n",
       "      <td>367.15</td>\n",
       "      <td>47.0</td>\n",
       "      <td>22</td>\n",
       "      <td>2</td>\n",
       "      <td>8</td>\n",
       "      <td>0</td>\n",
       "      <td>0</td>\n",
       "      <td>0</td>\n",
       "      <td>...</td>\n",
       "      <td>0</td>\n",
       "      <td>1</td>\n",
       "      <td>0</td>\n",
       "      <td>0</td>\n",
       "      <td>1</td>\n",
       "      <td>0</td>\n",
       "      <td>0</td>\n",
       "      <td>0</td>\n",
       "      <td>1</td>\n",
       "      <td>0</td>\n",
       "    </tr>\n",
       "    <tr>\n",
       "      <th>872</th>\n",
       "      <td>(3S,4R)-dimethyltetradecane</td>\n",
       "      <td>Paraffins</td>\n",
       "      <td>NaN</td>\n",
       "      <td>NaN</td>\n",
       "      <td>34</td>\n",
       "      <td>4</td>\n",
       "      <td>10</td>\n",
       "      <td>2</td>\n",
       "      <td>0</td>\n",
       "      <td>0</td>\n",
       "      <td>...</td>\n",
       "      <td>0</td>\n",
       "      <td>0</td>\n",
       "      <td>0</td>\n",
       "      <td>0</td>\n",
       "      <td>0</td>\n",
       "      <td>0</td>\n",
       "      <td>0</td>\n",
       "      <td>0</td>\n",
       "      <td>0</td>\n",
       "      <td>0</td>\n",
       "    </tr>\n",
       "    <tr>\n",
       "      <th>543</th>\n",
       "      <td>methyl tetradecanoate</td>\n",
       "      <td>Esters</td>\n",
       "      <td>NaN</td>\n",
       "      <td>72.0</td>\n",
       "      <td>30</td>\n",
       "      <td>2</td>\n",
       "      <td>12</td>\n",
       "      <td>0</td>\n",
       "      <td>0</td>\n",
       "      <td>0</td>\n",
       "      <td>...</td>\n",
       "      <td>0</td>\n",
       "      <td>1</td>\n",
       "      <td>0</td>\n",
       "      <td>0</td>\n",
       "      <td>1</td>\n",
       "      <td>0</td>\n",
       "      <td>0</td>\n",
       "      <td>0</td>\n",
       "      <td>1</td>\n",
       "      <td>0</td>\n",
       "    </tr>\n",
       "    <tr>\n",
       "      <th>427</th>\n",
       "      <td>ethyl buta-2,3-dienoate</td>\n",
       "      <td>Esters</td>\n",
       "      <td>320.15</td>\n",
       "      <td>NaN</td>\n",
       "      <td>8</td>\n",
       "      <td>1</td>\n",
       "      <td>1</td>\n",
       "      <td>0</td>\n",
       "      <td>0</td>\n",
       "      <td>1</td>\n",
       "      <td>...</td>\n",
       "      <td>0</td>\n",
       "      <td>1</td>\n",
       "      <td>0</td>\n",
       "      <td>0</td>\n",
       "      <td>1</td>\n",
       "      <td>0</td>\n",
       "      <td>0</td>\n",
       "      <td>0</td>\n",
       "      <td>1</td>\n",
       "      <td>0</td>\n",
       "    </tr>\n",
       "    <tr>\n",
       "      <th>466</th>\n",
       "      <td>isobutyl 2-methylpropanoate</td>\n",
       "      <td>Esters</td>\n",
       "      <td>311.15</td>\n",
       "      <td>NaN</td>\n",
       "      <td>16</td>\n",
       "      <td>4</td>\n",
       "      <td>1</td>\n",
       "      <td>2</td>\n",
       "      <td>0</td>\n",
       "      <td>0</td>\n",
       "      <td>...</td>\n",
       "      <td>0</td>\n",
       "      <td>1</td>\n",
       "      <td>0</td>\n",
       "      <td>0</td>\n",
       "      <td>1</td>\n",
       "      <td>0</td>\n",
       "      <td>0</td>\n",
       "      <td>0</td>\n",
       "      <td>1</td>\n",
       "      <td>0</td>\n",
       "    </tr>\n",
       "  </tbody>\n",
       "</table>\n",
       "<p>5 rows × 32 columns</p>\n",
       "</div>"
      ],
      "text/plain": [
       "                            Name     Family  FP Exp.  CN Exp.  -H  -CH3  \\\n",
       "524             methyl decanoate     Esters   367.15     47.0  22     2   \n",
       "872  (3S,4R)-dimethyltetradecane  Paraffins      NaN      NaN  34     4   \n",
       "543        methyl tetradecanoate     Esters      NaN     72.0  30     2   \n",
       "427      ethyl buta-2,3-dienoate     Esters   320.15      NaN   8     1   \n",
       "466  isobutyl 2-methylpropanoate     Esters   311.15      NaN  16     4   \n",
       "\n",
       "     -CH2-  >CH-  >C<  =CH2  ...   -OH (phenol)  -O-  (-O-)R  aOa  >C=O  \\\n",
       "524      8     0    0     0  ...              0    1       0    0     1   \n",
       "872     10     2    0     0  ...              0    0       0    0     0   \n",
       "543     12     0    0     0  ...              0    1       0    0     1   \n",
       "427      1     0    0     1  ...              0    1       0    0     1   \n",
       "466      1     2    0     0  ...              0    1       0    0     1   \n",
       "\n",
       "     (>C=O)R  -CHO  -COOH  -COO-  aaCa  \n",
       "524        0     0      0      1     0  \n",
       "872        0     0      0      0     0  \n",
       "543        0     0      0      1     0  \n",
       "427        0     0      0      1     0  \n",
       "466        0     0      0      1     0  \n",
       "\n",
       "[5 rows x 32 columns]"
      ]
     },
     "execution_count": 62,
     "metadata": {},
     "output_type": "execute_result"
    }
   ],
   "source": [
    "train.head()"
   ]
  },
  {
   "cell_type": "markdown",
   "metadata": {},
   "source": [
    "## lda"
   ]
  },
  {
   "cell_type": "code",
   "execution_count": 63,
   "metadata": {
    "collapsed": true
   },
   "outputs": [],
   "source": [
    "from sklearn.discriminant_analysis import LinearDiscriminantAnalysis"
   ]
  },
  {
   "cell_type": "code",
   "execution_count": 64,
   "metadata": {},
   "outputs": [
    {
     "name": "stderr",
     "output_type": "stream",
     "text": [
      "C:\\Users\\sxzxc\\Anaconda3\\lib\\site-packages\\sklearn\\discriminant_analysis.py:388: UserWarning: Variables are collinear.\n",
      "  warnings.warn(\"Variables are collinear.\")\n"
     ]
    }
   ],
   "source": [
    "lda = LinearDiscriminantAnalysis()\n",
    "lda.fit(X_train, y_train)\n",
    "y_pred = lda.predict(X_test)\n",
    "train_pred = lda.predict(X_train)"
   ]
  },
  {
   "cell_type": "code",
   "execution_count": 65,
   "metadata": {},
   "outputs": [
    {
     "data": {
      "text/plain": [
       "0.9568965517241379"
      ]
     },
     "execution_count": 65,
     "metadata": {},
     "output_type": "execute_result"
    }
   ],
   "source": [
    "# print accuracy \n",
    "accu = metrics.accuracy_score(y_test, y_pred)\n",
    "accu"
   ]
  },
  {
   "cell_type": "code",
   "execution_count": 66,
   "metadata": {},
   "outputs": [
    {
     "data": {
      "text/plain": [
       "<matplotlib.legend.Legend at 0x14a32010f98>"
      ]
     },
     "execution_count": 66,
     "metadata": {},
     "output_type": "execute_result"
    },
    {
     "data": {
      "image/png": "[encoded data removed]",
      "text/plain": [
       "<matplotlib.figure.Figure at 0x14a31dbfe80>"
      ]
     },
     "metadata": {},
     "output_type": "display_data"
    }
   ],
   "source": [
    "# plot the train and test set\n",
    "plt.figure(figsize=(10,8))\n",
    "plt.scatter(y_test, y_pred, marker='s', s=100, label='test')\n",
    "plt.scatter(y_train, train_pred, marker='d', s=60,c='orange', label='train')\n",
    "plt.plot([0,7], [0,7], color='k')\n",
    "plt.xticks(rotation='40')\n",
    "plt.legend()"
   ]
  },
  {
   "cell_type": "markdown",
   "metadata": {},
   "source": [
    "### define functions"
   ]
  },
  {
   "cell_type": "code",
   "execution_count": 67,
   "metadata": {
    "collapsed": true
   },
   "outputs": [],
   "source": [
    "def train_lda(X_train, y_train):\n",
    "    lda = LinearDiscriminantAnalysis()\n",
    "    lda.fit(X_train, y_train)\n",
    "    return lda"
   ]
  },
  {
   "cell_type": "code",
   "execution_count": 68,
   "metadata": {
    "collapsed": true
   },
   "outputs": [],
   "source": [
    "def test_lda(X_train, y_train, X_test, y_test):\n",
    "    lda = train_lda(X_train, y_train)\n",
    "    y_pred = lda.predict(X_test)\n",
    "    train_pred = lda.predict(X_train)    \n",
    "    print('Accuracy = ', metrics.accuracy_score(y_test, y_pred))\n",
    "    plt.figure(figsize=(10,8))\n",
    "    plt.scatter(y_test, y_pred, marker='s', s=100, label='test')\n",
    "    plt.scatter(y_train, train_pred, marker='d', s=60,c='orange', label='train')\n",
    "    plt.plot([0,7], [0,7], color='k')\n",
    "    plt.xticks(rotation='40')\n",
    "    plt.legend()\n",
    "    return"
   ]
  },
  {
   "cell_type": "code",
   "execution_count": 69,
   "metadata": {
    "collapsed": true
   },
   "outputs": [],
   "source": [
    "def predict_family_lda(X_train, y_train, X):\n",
    "    lda = train_lda(X_train, y_train)\n",
    "    y_pred = lda.predict(X)\n",
    "    return y_pred"
   ]
  },
  {
   "cell_type": "code",
   "execution_count": 70,
   "metadata": {},
   "outputs": [
    {
     "name": "stderr",
     "output_type": "stream",
     "text": [
      "C:\\Users\\sxzxc\\Anaconda3\\lib\\site-packages\\sklearn\\discriminant_analysis.py:388: UserWarning: Variables are collinear.\n",
      "  warnings.warn(\"Variables are collinear.\")\n"
     ]
    },
    {
     "data": {
      "text/plain": [
       "LinearDiscriminantAnalysis(n_components=None, priors=None, shrinkage=None,\n",
       "              solver='svd', store_covariance=False, tol=0.0001)"
      ]
     },
     "execution_count": 70,
     "metadata": {},
     "output_type": "execute_result"
    }
   ],
   "source": [
    "train_lda(X_train, y_train)"
   ]
  },
  {
   "cell_type": "code",
   "execution_count": 71,
   "metadata": {},
   "outputs": [
    {
     "name": "stderr",
     "output_type": "stream",
     "text": [
      "C:\\Users\\sxzxc\\Anaconda3\\lib\\site-packages\\sklearn\\discriminant_analysis.py:388: UserWarning: Variables are collinear.\n",
      "  warnings.warn(\"Variables are collinear.\")\n"
     ]
    },
    {
     "name": "stdout",
     "output_type": "stream",
     "text": [
      "Accuracy =  0.956896551724\n"
     ]
    },
    {
     "data": {
      "image/png": "[encoded data removed]",
      "text/plain": [
       "<matplotlib.figure.Figure at 0x14a2f782518>"
      ]
     },
     "metadata": {},
     "output_type": "display_data"
    }
   ],
   "source": [
    "test_lda(X_train, y_train, X_test, y_test)"
   ]
  },
  {
   "cell_type": "code",
   "execution_count": 72,
   "metadata": {},
   "outputs": [
    {
     "data": {
      "text/html": [
       "<div>\n",
       "<style scoped>\n",
       "    .dataframe tbody tr th:only-of-type {\n",
       "        vertical-align: middle;\n",
       "    }\n",
       "\n",
       "    .dataframe tbody tr th {\n",
       "        vertical-align: top;\n",
       "    }\n",
       "\n",
       "    .dataframe thead th {\n",
       "        text-align: right;\n",
       "    }\n",
       "</style>\n",
       "<table border=\"1\" class=\"dataframe\">\n",
       "  <thead>\n",
       "    <tr style=\"text-align: right;\">\n",
       "      <th></th>\n",
       "      <th>-H</th>\n",
       "      <th>-CH3</th>\n",
       "      <th>-CH2-</th>\n",
       "      <th>&gt;CH-</th>\n",
       "      <th>&gt;C&lt;</th>\n",
       "      <th>=CH2</th>\n",
       "      <th>=CH-</th>\n",
       "      <th>=C&lt;</th>\n",
       "      <th>#CH</th>\n",
       "      <th>#C-</th>\n",
       "      <th>...</th>\n",
       "      <th>-OH (phenol)</th>\n",
       "      <th>-O-</th>\n",
       "      <th>(-O-)R</th>\n",
       "      <th>aOa</th>\n",
       "      <th>&gt;C=O</th>\n",
       "      <th>(&gt;C=O)R</th>\n",
       "      <th>-CHO</th>\n",
       "      <th>-COOH</th>\n",
       "      <th>-COO-</th>\n",
       "      <th>aaCa</th>\n",
       "    </tr>\n",
       "  </thead>\n",
       "  <tbody>\n",
       "    <tr>\n",
       "      <th>751</th>\n",
       "      <td>1</td>\n",
       "      <td>1</td>\n",
       "      <td>1</td>\n",
       "      <td>0</td>\n",
       "      <td>0</td>\n",
       "      <td>1</td>\n",
       "      <td>1</td>\n",
       "      <td>0</td>\n",
       "      <td>0</td>\n",
       "      <td>0</td>\n",
       "      <td>...</td>\n",
       "      <td>0</td>\n",
       "      <td>0</td>\n",
       "      <td>0</td>\n",
       "      <td>0</td>\n",
       "      <td>0</td>\n",
       "      <td>0</td>\n",
       "      <td>0</td>\n",
       "      <td>0</td>\n",
       "      <td>0</td>\n",
       "      <td>0</td>\n",
       "    </tr>\n",
       "    <tr>\n",
       "      <th>255</th>\n",
       "      <td>1</td>\n",
       "      <td>1</td>\n",
       "      <td>1</td>\n",
       "      <td>0</td>\n",
       "      <td>0</td>\n",
       "      <td>0</td>\n",
       "      <td>0</td>\n",
       "      <td>0</td>\n",
       "      <td>0</td>\n",
       "      <td>0</td>\n",
       "      <td>...</td>\n",
       "      <td>0</td>\n",
       "      <td>0</td>\n",
       "      <td>0</td>\n",
       "      <td>0</td>\n",
       "      <td>0</td>\n",
       "      <td>0</td>\n",
       "      <td>0</td>\n",
       "      <td>0</td>\n",
       "      <td>0</td>\n",
       "      <td>0</td>\n",
       "    </tr>\n",
       "  </tbody>\n",
       "</table>\n",
       "<p>2 rows × 28 columns</p>\n",
       "</div>"
      ],
      "text/plain": [
       "     -H  -CH3  -CH2-  >CH-  >C<  =CH2  =CH-  =C<  #CH  #C-  ...   \\\n",
       "751   1     1      1     0    0     1     1    0    0    0  ...    \n",
       "255   1     1      1     0    0     0     0    0    0    0  ...    \n",
       "\n",
       "     -OH (phenol)  -O-  (-O-)R  aOa  >C=O  (>C=O)R  -CHO  -COOH  -COO-  aaCa  \n",
       "751             0    0       0    0     0        0     0      0      0     0  \n",
       "255             0    0       0    0     0        0     0      0      0     0  \n",
       "\n",
       "[2 rows x 28 columns]"
      ]
     },
     "execution_count": 72,
     "metadata": {},
     "output_type": "execute_result"
    }
   ],
   "source": [
    "X=X_train.iloc[0:2,:]\n",
    "X"
   ]
  },
  {
   "cell_type": "code",
   "execution_count": 73,
   "metadata": {},
   "outputs": [
    {
     "name": "stderr",
     "output_type": "stream",
     "text": [
      "C:\\Users\\sxzxc\\Anaconda3\\lib\\site-packages\\sklearn\\discriminant_analysis.py:388: UserWarning: Variables are collinear.\n",
      "  warnings.warn(\"Variables are collinear.\")\n"
     ]
    },
    {
     "data": {
      "text/plain": [
       "array(['Olefins', 'Aromatics'],\n",
       "      dtype='<U22')"
      ]
     },
     "execution_count": 73,
     "metadata": {},
     "output_type": "execute_result"
    }
   ],
   "source": [
    "predict_family_lda(X_train, y_train, X)"
   ]
  },
  {
   "cell_type": "code",
   "execution_count": null,
   "metadata": {
    "collapsed": true
   },
   "outputs": [],
   "source": []
  },
  {
   "cell_type": "code",
   "execution_count": null,
   "metadata": {
    "collapsed": true
   },
   "outputs": [],
   "source": []
  },
  {
   "cell_type": "code",
   "execution_count": null,
   "metadata": {
    "collapsed": true
   },
   "outputs": [],
   "source": []
  },
  {
   "cell_type": "code",
   "execution_count": null,
   "metadata": {
    "collapsed": true
   },
   "outputs": [],
   "source": []
  }
 ],
 "metadata": {
  "kernelspec": {
   "display_name": "Python 3",
   "language": "python",
   "name": "python3"
  },
  "language_info": {
   "codemirror_mode": {
    "name": "ipython",
    "version": 3
   },
   "file_extension": ".py",
   "mimetype": "text/x-python",
   "name": "python",
   "nbconvert_exporter": "python",
   "pygments_lexer": "ipython3",
   "version": "3.6.3"
  }
 },
 "nbformat": 4,
 "nbformat_minor": 2
}
