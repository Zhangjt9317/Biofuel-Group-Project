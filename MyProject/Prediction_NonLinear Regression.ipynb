{
 "cells": [
  {
   "cell_type": "code",
   "execution_count": 7,
   "metadata": {},
   "outputs": [],
   "source": [
    "import pandas as pd\n",
    "import numpy as np\n",
    "import matplotlib.pyplot as plt\n",
    "from sklearn.model_selection import train_test_split\n",
    "from sklearn.metrics import mean_squared_error\n",
    "from sklearn.metrics import r2_score"
   ]
  },
  {
   "cell_type": "code",
   "execution_count": 64,
   "metadata": {},
   "outputs": [],
   "source": [
    "import pandas as pd\n",
    "\n",
    "def Database():\n",
    "    \"\"\"compile data sets into a data library, the output will be a DataFrame\"\"\"\n",
    "    data_1 = pd.read_excel('data/Flash Point and Cetane Number Predictions for Fuel Compounds.xls', skiprows=3) ###load data\n",
    "    data = data_1[['Name','Family', 'FP Exp.', 'CN Exp.']]  ###select columns\n",
    "    result_1 = data.drop(index=0)   ###rearrange the index\n",
    "    result_1.reset_index(drop=True, inplace=True)\n",
    "    names = ['Name', 'Family', 'Flash Point', 'Cetane Number']   ###rename columns\n",
    "    result_1.columns = names\n",
    "    data_2 = pd.read_excel('data/Flash Point and Cetane Number Predictions for Fuel Compounds.xls', skiprows=4)\n",
    "    result_2 = data_2.loc[: , '-H': 'aaCa']   ###select specific columns\n",
    "    smarts = [\"[H]\", \"[CX4H3]\", \"[CX4H2]\", \"[CX4H1]\", \"[CX4H0]\", \"[CX3H2]\", \"[CX3H1]\", \"[CX3H0]\", \"[CX2H1]\",\"[CX2H0]\", \"[CX4H2R]\", \"[CX4H1R]\", \"[CX4H0R]\",\"[CX3H1R]\",\"[CX3H0R]\",\"[cX3H1](:*):*\", \"[cX3H0](:*)(:*)*\", \"[OX2H1]\", \"[OX2H1][cX3]:[c]\", \"[OX2H0]\", \"[OX2H0R]\", \"[oX2H0](:*):*\", \"[CX3H0]=[O]\", \"[CX3H0R]=[O]\", \"[CX3H1]=[O]\", \"[CX3H0](=[O])[OX2H1]\", \"[CX3H0](=[O])[OX2H0]\", \"[cX3H0](:*)(:*):*\"]   ###rename functional groups to SMARTS\n",
    "    result_2.columns = smarts\n",
    "    result = pd.concat([result_1, result_2], axis=1)   ###combine two dataframes into one dataframe\n",
    "    return result"
   ]
  },
  {
   "cell_type": "code",
   "execution_count": 65,
   "metadata": {},
   "outputs": [],
   "source": [
    "# Polynomial interpolation"
   ]
  },
  {
   "cell_type": "code",
   "execution_count": 66,
   "metadata": {},
   "outputs": [],
   "source": [
    "from sklearn.preprocessing import PolynomialFeatures\n",
    "from sklearn.pipeline import make_pipeline\n",
    "from sklearn.linear_model import Ridge"
   ]
  },
  {
   "cell_type": "code",
   "execution_count": 67,
   "metadata": {},
   "outputs": [],
   "source": [
    "df = Database()\n",
    "df = df[np.isfinite(df['Flash Point'])]\n",
    "train, test = train_test_split(df, test_size=0.1)\n",
    "X = train[train.columns[4:]]\n",
    "y = train['Flash Point']"
   ]
  },
  {
   "cell_type": "code",
   "execution_count": 85,
   "metadata": {},
   "outputs": [],
   "source": [
    "nlr = make_pipeline(PolynomialFeatures(2), Ridge())"
   ]
  },
  {
   "cell_type": "code",
   "execution_count": 86,
   "metadata": {},
   "outputs": [
    {
     "data": {
      "text/plain": [
       "Pipeline(memory=None,\n",
       "     steps=[('polynomialfeatures', PolynomialFeatures(degree=2, include_bias=True, interaction_only=False)), ('ridge', Ridge(alpha=1.0, copy_X=True, fit_intercept=True, max_iter=None,\n",
       "   normalize=False, random_state=None, solver='auto', tol=0.001))])"
      ]
     },
     "execution_count": 86,
     "metadata": {},
     "output_type": "execute_result"
    }
   ],
   "source": [
    "nlr.fit(X, y)"
   ]
  },
  {
   "cell_type": "code",
   "execution_count": 87,
   "metadata": {},
   "outputs": [],
   "source": [
    "X_test = test[test.columns[4:]]\n",
    "testpred = nlr.predict(X_test)"
   ]
  },
  {
   "cell_type": "code",
   "execution_count": 90,
   "metadata": {},
   "outputs": [
    {
     "data": {
      "text/plain": [
       "164.9273552477523"
      ]
     },
     "execution_count": 90,
     "metadata": {},
     "output_type": "execute_result"
    }
   ],
   "source": [
    "mean_squared_error(test['Flash Point'], testpred)"
   ]
  },
  {
   "cell_type": "code",
   "execution_count": 91,
   "metadata": {},
   "outputs": [
    {
     "data": {
      "text/plain": [
       "0.9601405454859812"
      ]
     },
     "execution_count": 91,
     "metadata": {},
     "output_type": "execute_result"
    }
   ],
   "source": [
    "r2_score(test['Flash Point'], testpred)"
   ]
  }
 ],
 "metadata": {
  "kernelspec": {
   "display_name": "Python 3",
   "language": "python",
   "name": "python3"
  },
  "language_info": {
   "codemirror_mode": {
    "name": "ipython",
    "version": 3
   },
   "file_extension": ".py",
   "mimetype": "text/x-python",
   "name": "python",
   "nbconvert_exporter": "python",
   "pygments_lexer": "ipython3",
   "version": "3.6.4"
  }
 },
 "nbformat": 4,
 "nbformat_minor": 2
}
