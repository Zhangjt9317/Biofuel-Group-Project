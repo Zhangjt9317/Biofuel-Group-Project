{
 "cells": [
  {
   "cell_type": "markdown",
   "metadata": {},
   "source": [
    "# Classifier Prediction"
   ]
  },
  {
   "cell_type": "code",
   "execution_count": 78,
   "metadata": {},
   "outputs": [],
   "source": [
    "# %load ../standard_import.txt\n",
    "import pandas as pd\n",
    "import numpy as np\n",
    "import matplotlib as mpl\n",
    "import matplotlib.pyplot as plt\n",
    "from matplotlib.colors import Normalize\n",
    "import seaborn as sns\n",
    "from database import Database\n",
    "\n",
    "import sklearn.linear_model as skl_lm\n",
    "from sklearn.model_selection import train_test_split\n",
    "from sklearn.neighbors import KNeighborsClassifier\n",
    "from sklearn.discriminant_analysis import LinearDiscriminantAnalysis\n",
    "from sklearn.discriminant_analysis import QuadraticDiscriminantAnalysis\n",
    "from sklearn.metrics import confusion_matrix, classification_report, precision_score\n",
    "from sklearn.cluster import KMeans\n",
    "from sklearn.model_selection import StratifiedShuffleSplit\n",
    "from sklearn import preprocessing\n",
    "from sklearn import neighbors\n",
    "from sklearn import metrics\n",
    "from sklearn import tree\n",
    "from sklearn import ensemble\n",
    "from sklearn import neural_network\n",
    "from sklearn import linear_model\n",
    "from sklearn.metrics import accuracy_score\n",
    "from sklearn.svm import SVC\n",
    "from sklearn.preprocessing import StandardScaler\n",
    "from sklearn.model_selection import StratifiedShuffleSplit\n",
    "from sklearn.model_selection import GridSearchCV\n",
    "\n",
    "\n",
    "import statsmodels.api as sm\n",
    "import statsmodels.formula.api as smf\n",
    "\n",
    "%matplotlib inline\n",
    "plt.style.use('seaborn-white')"
   ]
  },
  {
   "cell_type": "code",
   "execution_count": 79,
   "metadata": {},
   "outputs": [
    {
     "data": {
      "text/html": [
       "<div>\n",
       "<style scoped>\n",
       "    .dataframe tbody tr th:only-of-type {\n",
       "        vertical-align: middle;\n",
       "    }\n",
       "\n",
       "    .dataframe tbody tr th {\n",
       "        vertical-align: top;\n",
       "    }\n",
       "\n",
       "    .dataframe thead th {\n",
       "        text-align: right;\n",
       "    }\n",
       "</style>\n",
       "<table border=\"1\" class=\"dataframe\">\n",
       "  <thead>\n",
       "    <tr style=\"text-align: right;\">\n",
       "      <th></th>\n",
       "      <th>Name</th>\n",
       "      <th>Family</th>\n",
       "      <th>FP Exp.</th>\n",
       "      <th>CN Exp.</th>\n",
       "      <th>[H]</th>\n",
       "      <th>[CX4H3]</th>\n",
       "      <th>[CX4H2]</th>\n",
       "      <th>[CX4H1]</th>\n",
       "      <th>[CX4H0]</th>\n",
       "      <th>[CX3H2]</th>\n",
       "      <th>...</th>\n",
       "      <th>[OX2H1][cX3]:[c]</th>\n",
       "      <th>[OX2H0]</th>\n",
       "      <th>[OX2H0R]</th>\n",
       "      <th>[oX2H0](:*):*</th>\n",
       "      <th>[CX3H0]=[O]</th>\n",
       "      <th>[CX3H0R]=[O]</th>\n",
       "      <th>[CX3H1]=[O]</th>\n",
       "      <th>[CX3H0](=[O])[OX2H1]</th>\n",
       "      <th>[CX3H0](=[O])[OX2H0]</th>\n",
       "      <th>[cX3H0](:*)(:*):*</th>\n",
       "    </tr>\n",
       "  </thead>\n",
       "  <tbody>\n",
       "    <tr>\n",
       "      <th>0</th>\n",
       "      <td>(2E)-but-2-ene-1,4-diol</td>\n",
       "      <td>Alcohols</td>\n",
       "      <td>401.15</td>\n",
       "      <td>NaN</td>\n",
       "      <td>8</td>\n",
       "      <td>0</td>\n",
       "      <td>2</td>\n",
       "      <td>0</td>\n",
       "      <td>0</td>\n",
       "      <td>0</td>\n",
       "      <td>...</td>\n",
       "      <td>0</td>\n",
       "      <td>0</td>\n",
       "      <td>0</td>\n",
       "      <td>0</td>\n",
       "      <td>0</td>\n",
       "      <td>0</td>\n",
       "      <td>0</td>\n",
       "      <td>0</td>\n",
       "      <td>0</td>\n",
       "      <td>0</td>\n",
       "    </tr>\n",
       "    <tr>\n",
       "      <th>1</th>\n",
       "      <td>(2R,3R,4R,5S)-hexane-1,2,3,4,5,6-hexol</td>\n",
       "      <td>Alcohols</td>\n",
       "      <td>422.00</td>\n",
       "      <td>NaN</td>\n",
       "      <td>14</td>\n",
       "      <td>0</td>\n",
       "      <td>2</td>\n",
       "      <td>4</td>\n",
       "      <td>0</td>\n",
       "      <td>0</td>\n",
       "      <td>...</td>\n",
       "      <td>0</td>\n",
       "      <td>0</td>\n",
       "      <td>0</td>\n",
       "      <td>0</td>\n",
       "      <td>0</td>\n",
       "      <td>0</td>\n",
       "      <td>0</td>\n",
       "      <td>0</td>\n",
       "      <td>0</td>\n",
       "      <td>0</td>\n",
       "    </tr>\n",
       "    <tr>\n",
       "      <th>2</th>\n",
       "      <td>(2S)-butane-1,2,4-triol</td>\n",
       "      <td>Alcohols</td>\n",
       "      <td>385.00</td>\n",
       "      <td>NaN</td>\n",
       "      <td>10</td>\n",
       "      <td>0</td>\n",
       "      <td>3</td>\n",
       "      <td>1</td>\n",
       "      <td>0</td>\n",
       "      <td>0</td>\n",
       "      <td>...</td>\n",
       "      <td>0</td>\n",
       "      <td>0</td>\n",
       "      <td>0</td>\n",
       "      <td>0</td>\n",
       "      <td>0</td>\n",
       "      <td>0</td>\n",
       "      <td>0</td>\n",
       "      <td>0</td>\n",
       "      <td>0</td>\n",
       "      <td>0</td>\n",
       "    </tr>\n",
       "  </tbody>\n",
       "</table>\n",
       "<p>3 rows × 32 columns</p>\n",
       "</div>"
      ],
      "text/plain": [
       "                                     Name    Family  FP Exp.  CN Exp.  [H]  \\\n",
       "0                 (2E)-but-2-ene-1,4-diol  Alcohols   401.15      NaN    8   \n",
       "1  (2R,3R,4R,5S)-hexane-1,2,3,4,5,6-hexol  Alcohols   422.00      NaN   14   \n",
       "2                 (2S)-butane-1,2,4-triol  Alcohols   385.00      NaN   10   \n",
       "\n",
       "   [CX4H3]  [CX4H2]  [CX4H1]  [CX4H0]  [CX3H2]        ...          \\\n",
       "0        0        2        0        0        0        ...           \n",
       "1        0        2        4        0        0        ...           \n",
       "2        0        3        1        0        0        ...           \n",
       "\n",
       "   [OX2H1][cX3]:[c]  [OX2H0]  [OX2H0R]  [oX2H0](:*):*  [CX3H0]=[O]  \\\n",
       "0                 0        0         0              0            0   \n",
       "1                 0        0         0              0            0   \n",
       "2                 0        0         0              0            0   \n",
       "\n",
       "   [CX3H0R]=[O]  [CX3H1]=[O]  [CX3H0](=[O])[OX2H1]  [CX3H0](=[O])[OX2H0]  \\\n",
       "0             0            0                     0                     0   \n",
       "1             0            0                     0                     0   \n",
       "2             0            0                     0                     0   \n",
       "\n",
       "   [cX3H0](:*)(:*):*  \n",
       "0                  0  \n",
       "1                  0  \n",
       "2                  0  \n",
       "\n",
       "[3 rows x 32 columns]"
      ]
     },
     "execution_count": 79,
     "metadata": {},
     "output_type": "execute_result"
    }
   ],
   "source": [
    "df=Database()\n",
    "df.head(3)"
   ]
  },
  {
   "cell_type": "code",
   "execution_count": 80,
   "metadata": {},
   "outputs": [],
   "source": [
    "col= [\"[H]\", \"[CX4H3]\", \"[CX4H2]\", \"[CX4H1]\", \"[CX4H0]\",\"[CX3H2]\", \"[CX3H1]\", \"[CX3H0]\", \"[CX2H1]\",\"[CX2H0]\", \"[CX4H2R]\", \"[CX4H1R]\", \"[CX4H0R]\",\"[CX3H1R]\",\"[CX3H0R]\",\"[cX3H1](:*):*\", \"[cX3H0](:*)(:*)*\", \"[OX2H1]\", \"[OX2H1][cX3]:[c]\", \"[OX2H0]\", \"[OX2H0R]\", \"[oX2H0](:*):*\", \"[CX3H0]=[O]\", \"[CX3H0R]=[O]\", \"[CX3H1]=[O]\", \"[CX3H0](=[O])[OX2H1]\", \"[CX3H0](=[O])[OX2H0]\", \"[cX3H0](:*)(:*):*\"]"
   ]
  },
  {
   "cell_type": "code",
   "execution_count": 137,
   "metadata": {},
   "outputs": [
    {
     "data": {
      "text/html": [
       "<div>\n",
       "<style scoped>\n",
       "    .dataframe tbody tr th:only-of-type {\n",
       "        vertical-align: middle;\n",
       "    }\n",
       "\n",
       "    .dataframe tbody tr th {\n",
       "        vertical-align: top;\n",
       "    }\n",
       "\n",
       "    .dataframe thead th {\n",
       "        text-align: right;\n",
       "    }\n",
       "</style>\n",
       "<table border=\"1\" class=\"dataframe\">\n",
       "  <thead>\n",
       "    <tr style=\"text-align: right;\">\n",
       "      <th></th>\n",
       "      <th>Name</th>\n",
       "      <th>Family</th>\n",
       "      <th>FP Exp.</th>\n",
       "      <th>CN Exp.</th>\n",
       "      <th>[H]</th>\n",
       "      <th>[CX4H3]</th>\n",
       "      <th>[CX4H2]</th>\n",
       "      <th>[CX4H1]</th>\n",
       "      <th>[CX4H0]</th>\n",
       "      <th>[CX3H2]</th>\n",
       "      <th>...</th>\n",
       "      <th>[OX2H1][cX3]:[c]</th>\n",
       "      <th>[OX2H0]</th>\n",
       "      <th>[OX2H0R]</th>\n",
       "      <th>[oX2H0](:*):*</th>\n",
       "      <th>[CX3H0]=[O]</th>\n",
       "      <th>[CX3H0R]=[O]</th>\n",
       "      <th>[CX3H1]=[O]</th>\n",
       "      <th>[CX3H0](=[O])[OX2H1]</th>\n",
       "      <th>[CX3H0](=[O])[OX2H0]</th>\n",
       "      <th>[cX3H0](:*)(:*):*</th>\n",
       "    </tr>\n",
       "  </thead>\n",
       "  <tbody>\n",
       "    <tr>\n",
       "      <th>0</th>\n",
       "      <td>(2E)-but-2-ene-1,4-diol</td>\n",
       "      <td>Alcohols</td>\n",
       "      <td>401.15</td>\n",
       "      <td>NaN</td>\n",
       "      <td>8</td>\n",
       "      <td>0</td>\n",
       "      <td>2</td>\n",
       "      <td>0</td>\n",
       "      <td>0</td>\n",
       "      <td>0</td>\n",
       "      <td>...</td>\n",
       "      <td>0</td>\n",
       "      <td>0</td>\n",
       "      <td>0</td>\n",
       "      <td>0</td>\n",
       "      <td>0</td>\n",
       "      <td>0</td>\n",
       "      <td>0</td>\n",
       "      <td>0</td>\n",
       "      <td>0</td>\n",
       "      <td>0</td>\n",
       "    </tr>\n",
       "    <tr>\n",
       "      <th>1</th>\n",
       "      <td>(2R,3R,4R,5S)-hexane-1,2,3,4,5,6-hexol</td>\n",
       "      <td>Alcohols</td>\n",
       "      <td>422.00</td>\n",
       "      <td>NaN</td>\n",
       "      <td>14</td>\n",
       "      <td>0</td>\n",
       "      <td>2</td>\n",
       "      <td>4</td>\n",
       "      <td>0</td>\n",
       "      <td>0</td>\n",
       "      <td>...</td>\n",
       "      <td>0</td>\n",
       "      <td>0</td>\n",
       "      <td>0</td>\n",
       "      <td>0</td>\n",
       "      <td>0</td>\n",
       "      <td>0</td>\n",
       "      <td>0</td>\n",
       "      <td>0</td>\n",
       "      <td>0</td>\n",
       "      <td>0</td>\n",
       "    </tr>\n",
       "    <tr>\n",
       "      <th>2</th>\n",
       "      <td>(2S)-butane-1,2,4-triol</td>\n",
       "      <td>Alcohols</td>\n",
       "      <td>385.00</td>\n",
       "      <td>NaN</td>\n",
       "      <td>10</td>\n",
       "      <td>0</td>\n",
       "      <td>3</td>\n",
       "      <td>1</td>\n",
       "      <td>0</td>\n",
       "      <td>0</td>\n",
       "      <td>...</td>\n",
       "      <td>0</td>\n",
       "      <td>0</td>\n",
       "      <td>0</td>\n",
       "      <td>0</td>\n",
       "      <td>0</td>\n",
       "      <td>0</td>\n",
       "      <td>0</td>\n",
       "      <td>0</td>\n",
       "      <td>0</td>\n",
       "      <td>0</td>\n",
       "    </tr>\n",
       "  </tbody>\n",
       "</table>\n",
       "<p>3 rows × 32 columns</p>\n",
       "</div>"
      ],
      "text/plain": [
       "                                     Name    Family  FP Exp.  CN Exp.  [H]  \\\n",
       "0                 (2E)-but-2-ene-1,4-diol  Alcohols   401.15      NaN    8   \n",
       "1  (2R,3R,4R,5S)-hexane-1,2,3,4,5,6-hexol  Alcohols   422.00      NaN   14   \n",
       "2                 (2S)-butane-1,2,4-triol  Alcohols   385.00      NaN   10   \n",
       "\n",
       "   [CX4H3]  [CX4H2]  [CX4H1]  [CX4H0]  [CX3H2]        ...          \\\n",
       "0        0        2        0        0        0        ...           \n",
       "1        0        2        4        0        0        ...           \n",
       "2        0        3        1        0        0        ...           \n",
       "\n",
       "   [OX2H1][cX3]:[c]  [OX2H0]  [OX2H0R]  [oX2H0](:*):*  [CX3H0]=[O]  \\\n",
       "0                 0        0         0              0            0   \n",
       "1                 0        0         0              0            0   \n",
       "2                 0        0         0              0            0   \n",
       "\n",
       "   [CX3H0R]=[O]  [CX3H1]=[O]  [CX3H0](=[O])[OX2H1]  [CX3H0](=[O])[OX2H0]  \\\n",
       "0             0            0                     0                     0   \n",
       "1             0            0                     0                     0   \n",
       "2             0            0                     0                     0   \n",
       "\n",
       "   [cX3H0](:*)(:*):*  \n",
       "0                  0  \n",
       "1                  0  \n",
       "2                  0  \n",
       "\n",
       "[3 rows x 32 columns]"
      ]
     },
     "execution_count": 137,
     "metadata": {},
     "output_type": "execute_result"
    }
   ],
   "source": [
    "df.head(3) "
   ]
  },
  {
   "cell_type": "code",
   "execution_count": null,
   "metadata": {},
   "outputs": [],
   "source": [
    "X = df.loc[:, '[H]': '[cX3H0](:*)(:*):*']\n",
    "y, labels=pd.factorize(df.Family)\n",
    "\n",
    "X_train = train.loc[:, '[H]': '[cX3H0](:*)(:*):*']\n",
    "y_train, y_train_labels = pd.factorize(train.Family)\n",
    "\n",
    "X_test = test.loc[:, '[H]': '[cX3H0](:*)(:*):*']\n",
    "y_test, y_test_labels = pd.factorize(test.Family)"
   ]
  },
  {
   "cell_type": "markdown",
   "metadata": {},
   "source": [
    "### The following are classifiers with multilabel multiclass algorithms \n",
    "* sklearn.tree.DecisionTreeClassifier\n",
    "* sklearn.tree.ExtraTreeClassifier\n",
    "* sklearn.ensemble.ExtraTreesClassifier\n",
    "* sklearn.neural_network.MLPClassifier\n",
    "* sklearn.neighbors.RadiusNeighborsClassifier\n",
    "* sklearn.ensemble.RandomForestClassifier\n",
    "* sklearn.linear_model.RidgeClassifierCV"
   ]
  },
  {
   "cell_type": "code",
   "execution_count": null,
   "metadata": {},
   "outputs": [],
   "source": []
  },
  {
   "cell_type": "markdown",
   "metadata": {},
   "source": [
    "### ANN"
   ]
  },
  {
   "cell_type": "code",
   "execution_count": 117,
   "metadata": {},
   "outputs": [],
   "source": [
    "def KNN():\n",
    "    clf= KNeighborsClassifier(algorithm='brute',n_neighbors=50)\n",
    "    clf.fit(X_train,Y_train)\n",
    "    Y_pred=clf.predict(X_test)\n",
    "    return Y_pred"
   ]
  },
  {
   "cell_type": "code",
   "execution_count": 118,
   "metadata": {},
   "outputs": [],
   "source": [
    "Y_pred1=KNN()"
   ]
  },
  {
   "cell_type": "code",
   "execution_count": 119,
   "metadata": {},
   "outputs": [
    {
     "data": {
      "text/plain": [
       "0.051724137931034482"
      ]
     },
     "execution_count": 119,
     "metadata": {},
     "output_type": "execute_result"
    }
   ],
   "source": [
    "accuracy_score(Y_test,Y_pred1)"
   ]
  },
  {
   "cell_type": "code",
   "execution_count": 120,
   "metadata": {},
   "outputs": [
    {
     "data": {
      "text/plain": [
       "5.8103448275862073"
      ]
     },
     "execution_count": 120,
     "metadata": {},
     "output_type": "execute_result"
    }
   ],
   "source": [
    "MSE=metrics.mean_squared_error(Y_test,Y_pred1)\n",
    "MSE"
   ]
  },
  {
   "cell_type": "code",
   "execution_count": 121,
   "metadata": {},
   "outputs": [
    {
     "data": {
      "text/plain": [
       "<matplotlib.collections.PathCollection at 0x2027d790eb8>"
      ]
     },
     "execution_count": 121,
     "metadata": {},
     "output_type": "execute_result"
    },
    {
     "data": {
      "image/png": "[encoded data removed]",
      "text/plain": [
       "<matplotlib.figure.Figure at 0x2027d7945c0>"
      ]
     },
     "metadata": {},
     "output_type": "display_data"
    }
   ],
   "source": [
    "plt.scatter(Y_test,Y_pred1)"
   ]
  },
  {
   "cell_type": "markdown",
   "metadata": {},
   "source": [
    "### K-Mean"
   ]
  },
  {
   "cell_type": "code",
   "execution_count": 122,
   "metadata": {},
   "outputs": [],
   "source": [
    "def K_mean():\n",
    "    clf2= KMeans()\n",
    "    clf2.fit(X_train,Y_train)\n",
    "    Y_pred2=clf2.predict(X_test)\n",
    "    return Y_pred2"
   ]
  },
  {
   "cell_type": "code",
   "execution_count": 123,
   "metadata": {},
   "outputs": [],
   "source": [
    "Y_pred2=K_mean()"
   ]
  },
  {
   "cell_type": "code",
   "execution_count": 124,
   "metadata": {},
   "outputs": [
    {
     "data": {
      "text/plain": [
       "10.28448275862069"
      ]
     },
     "execution_count": 124,
     "metadata": {},
     "output_type": "execute_result"
    }
   ],
   "source": [
    "MSE=metrics.mean_squared_error(Y_test,Y_pred2)\n",
    "MSE"
   ]
  },
  {
   "cell_type": "code",
   "execution_count": 125,
   "metadata": {},
   "outputs": [
    {
     "data": {
      "text/plain": [
       "-1.5047148467901037"
      ]
     },
     "execution_count": 125,
     "metadata": {},
     "output_type": "execute_result"
    }
   ],
   "source": [
    "metrics.r2_score(Y_test,Y_pred2)"
   ]
  },
  {
   "cell_type": "code",
   "execution_count": 126,
   "metadata": {},
   "outputs": [
    {
     "data": {
      "text/plain": [
       "<matplotlib.collections.PathCollection at 0x2027daf5828>"
      ]
     },
     "execution_count": 126,
     "metadata": {},
     "output_type": "execute_result"
    },
    {
     "data": {
      "image/png": "[encoded data removed]",
      "text/plain": [
       "<matplotlib.figure.Figure at 0x2027d7b1518>"
      ]
     },
     "metadata": {},
     "output_type": "display_data"
    }
   ],
   "source": [
    "plt.scatter(Y_test,Y_pred2)"
   ]
  },
  {
   "cell_type": "markdown",
   "metadata": {},
   "source": [
    "### SVM"
   ]
  },
  {
   "cell_type": "code",
   "execution_count": 127,
   "metadata": {},
   "outputs": [
    {
     "data": {
      "text/plain": [
       "<bound method BaseEstimator.get_params of SVC(C=1.0, cache_size=200, class_weight=None, coef0=0.0,\n",
       "  decision_function_shape='ovr', degree=3, gamma='auto', kernel='rbf',\n",
       "  max_iter=-1, probability=False, random_state=None, shrinking=True,\n",
       "  tol=0.001, verbose=False)>"
      ]
     },
     "execution_count": 127,
     "metadata": {},
     "output_type": "execute_result"
    }
   ],
   "source": [
    "clf3=SVC()\n",
    "clf3.fit(X_train,Y_train)\n",
    "Y_pred3=clf3.predict(X_test)\n",
    "clf3.get_params"
   ]
  },
  {
   "cell_type": "code",
   "execution_count": 128,
   "metadata": {},
   "outputs": [
    {
     "name": "stdout",
     "output_type": "stream",
     "text": [
      "\f",
      "\n"
     ]
    }
   ],
   "source": [
    "clear"
   ]
  },
  {
   "cell_type": "code",
   "execution_count": 129,
   "metadata": {},
   "outputs": [
    {
     "data": {
      "text/plain": [
       "3.6982758620689653"
      ]
     },
     "execution_count": 129,
     "metadata": {},
     "output_type": "execute_result"
    }
   ],
   "source": [
    "MSE=metrics.mean_squared_error(Y_test,Y_pred3)\n",
    "MSE"
   ]
  },
  {
   "cell_type": "code",
   "execution_count": 130,
   "metadata": {},
   "outputs": [
    {
     "data": {
      "text/plain": [
       "0.099310419720909926"
      ]
     },
     "execution_count": 130,
     "metadata": {},
     "output_type": "execute_result"
    }
   ],
   "source": [
    "metrics.r2_score(Y_test,Y_pred3)"
   ]
  },
  {
   "cell_type": "code",
   "execution_count": 131,
   "metadata": {},
   "outputs": [
    {
     "data": {
      "text/plain": [
       "<matplotlib.collections.PathCollection at 0x2027d8768d0>"
      ]
     },
     "execution_count": 131,
     "metadata": {},
     "output_type": "execute_result"
    },
    {
     "data": {
      "image/png": "[encoded data removed]",
      "text/plain": [
       "<matplotlib.figure.Figure at 0x2027d7b14a8>"
      ]
     },
     "metadata": {},
     "output_type": "display_data"
    }
   ],
   "source": [
    "plt.scatter(Y_test,Y_pred2)"
   ]
  },
  {
   "cell_type": "markdown",
   "metadata": {},
   "source": [
    "### MLP"
   ]
  },
  {
   "cell_type": "code",
   "execution_count": 132,
   "metadata": {},
   "outputs": [],
   "source": [
    "def MLP():\n",
    "    # Now apply the transformations to the data:\n",
    "    mlp =neural_network.MLPClassifier(hidden_layer_sizes=(30,30,30))\n",
    "    mlp.fit(X_train,Y_train)\n",
    "    Y_pred4=mlp.predict(X_test)\n",
    "    return Y_pred4"
   ]
  },
  {
   "cell_type": "code",
   "execution_count": 133,
   "metadata": {},
   "outputs": [],
   "source": [
    "Y_pred4=MLP()"
   ]
  },
  {
   "cell_type": "code",
   "execution_count": 134,
   "metadata": {},
   "outputs": [
    {
     "data": {
      "text/plain": [
       "2.9396551724137931"
      ]
     },
     "execution_count": 134,
     "metadata": {},
     "output_type": "execute_result"
    }
   ],
   "source": [
    "MSE=metrics.mean_squared_error(Y_test,Y_pred4)\n",
    "MSE"
   ]
  },
  {
   "cell_type": "code",
   "execution_count": 135,
   "metadata": {},
   "outputs": [
    {
     "data": {
      "text/plain": [
       "<matplotlib.collections.PathCollection at 0x20201001780>"
      ]
     },
     "execution_count": 135,
     "metadata": {},
     "output_type": "execute_result"
    },
    {
     "data": {
      "image/png": "[encoded data removed]",
      "text/plain": [
       "<matplotlib.figure.Figure at 0x2027d874518>"
      ]
     },
     "metadata": {},
     "output_type": "display_data"
    }
   ],
   "source": [
    "plt.scatter(Y_test,Y_pred4)"
   ]
  },
  {
   "cell_type": "markdown",
   "metadata": {},
   "source": []
  },
  {
   "cell_type": "code",
   "execution_count": null,
   "metadata": {},
   "outputs": [],
   "source": []
  }
 ],
 "metadata": {
  "kernelspec": {
   "display_name": "Python 3",
   "language": "python",
   "name": "python3"
  },
  "language_info": {
   "codemirror_mode": {
    "name": "ipython",
    "version": 3
   },
   "file_extension": ".py",
   "mimetype": "text/x-python",
   "name": "python",
   "nbconvert_exporter": "python",
   "pygments_lexer": "ipython3",
   "version": "3.6.4"
  }
 },
 "nbformat": 4,
 "nbformat_minor": 2
}
