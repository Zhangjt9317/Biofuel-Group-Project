{
 "cells": [
  {
   "cell_type": "code",
   "execution_count": 2,
   "metadata": {
    "collapsed": true
   },
   "outputs": [],
   "source": [
    "import numpy as np\n",
    "import pandas as pd \n",
    "import matplotlib.pyplot as plt\n",
    "from sklearn.model_selection import train_test_split\n",
    "from sklearn.metrics import mean_squared_error\n",
    "from sklearn.metrics import r2_score\n",
    "from sklearn.neighbors import KNeighborsClassifier\n",
    "from sklearn import metrics\n",
    "from sklearn.svm import LinearSVC\n",
    "%matplotlib inline\n",
    "\n",
    "def Database():\n",
    "    \"\"\"compile data sets into a data library, the output will be a DataFrame\"\"\"\n",
    "    data_1 = pd.read_excel('data/Flash Point and Cetane Number Predictions for Fuel Compounds.xls', skiprows=3)\n",
    "    data = data_1[['Name','Family', 'FP Exp.', 'CN Exp.']]\n",
    "    result_1 = data.drop(index=0)\n",
    "    result_1.reset_index(drop=True, inplace=True)\n",
    "    data_2 = pd.read_excel('data/Flash Point and Cetane Number Predictions for Fuel Compounds.xls', skiprows=4)\n",
    "    result_2 = data_2.loc[: , '-H': 'aaCa']\n",
    "    result = pd.concat([result_1, result_2], axis=1)\n",
    "    return result"
   ]
  },
  {
   "cell_type": "markdown",
   "metadata": {},
   "source": [
    "## data clean"
   ]
  },
  {
   "cell_type": "code",
   "execution_count": 3,
   "metadata": {
    "collapsed": true,
    "scrolled": false
   },
   "outputs": [],
   "source": [
    "df = Database()\n",
    "train, test = train_test_split(df, test_size=0.1)\n",
    "a = train[train.columns[4:]]\n",
    "X_train = a.mask(a>0, 1)\n",
    "y_train = train['Family']\n",
    "\n",
    "b = test[test.columns[4:]]\n",
    "X_test = b.mask(b>0, 1)\n",
    "y_test = test['Family']"
   ]
  },
  {
   "cell_type": "code",
   "execution_count": 34,
   "metadata": {},
   "outputs": [
    {
     "data": {
      "text/html": [
       "<div>\n",
       "<style scoped>\n",
       "    .dataframe tbody tr th:only-of-type {\n",
       "        vertical-align: middle;\n",
       "    }\n",
       "\n",
       "    .dataframe tbody tr th {\n",
       "        vertical-align: top;\n",
       "    }\n",
       "\n",
       "    .dataframe thead th {\n",
       "        text-align: right;\n",
       "    }\n",
       "</style>\n",
       "<table border=\"1\" class=\"dataframe\">\n",
       "  <thead>\n",
       "    <tr style=\"text-align: right;\">\n",
       "      <th></th>\n",
       "      <th>Name</th>\n",
       "      <th>Family</th>\n",
       "      <th>FP Exp.</th>\n",
       "      <th>CN Exp.</th>\n",
       "      <th>-H</th>\n",
       "      <th>-CH3</th>\n",
       "      <th>-CH2-</th>\n",
       "      <th>&gt;CH-</th>\n",
       "      <th>&gt;C&lt;</th>\n",
       "      <th>=CH2</th>\n",
       "      <th>...</th>\n",
       "      <th>-OH (phenol)</th>\n",
       "      <th>-O-</th>\n",
       "      <th>(-O-)R</th>\n",
       "      <th>aOa</th>\n",
       "      <th>&gt;C=O</th>\n",
       "      <th>(&gt;C=O)R</th>\n",
       "      <th>-CHO</th>\n",
       "      <th>-COOH</th>\n",
       "      <th>-COO-</th>\n",
       "      <th>aaCa</th>\n",
       "    </tr>\n",
       "  </thead>\n",
       "  <tbody>\n",
       "    <tr>\n",
       "      <th>890</th>\n",
       "      <td>(4R,5R)-diethyloctane</td>\n",
       "      <td>Paraffins</td>\n",
       "      <td>NaN</td>\n",
       "      <td>20.0</td>\n",
       "      <td>26</td>\n",
       "      <td>4</td>\n",
       "      <td>6</td>\n",
       "      <td>2</td>\n",
       "      <td>0</td>\n",
       "      <td>0</td>\n",
       "      <td>...</td>\n",
       "      <td>0</td>\n",
       "      <td>0</td>\n",
       "      <td>0</td>\n",
       "      <td>0</td>\n",
       "      <td>0</td>\n",
       "      <td>0</td>\n",
       "      <td>0</td>\n",
       "      <td>0</td>\n",
       "      <td>0</td>\n",
       "      <td>0</td>\n",
       "    </tr>\n",
       "    <tr>\n",
       "      <th>322</th>\n",
       "      <td>2-(4-methylcyclohex-3-en-1-yl)propan-2-ol</td>\n",
       "      <td>Cyclic (Oxygenates)</td>\n",
       "      <td>367.15</td>\n",
       "      <td>NaN</td>\n",
       "      <td>18</td>\n",
       "      <td>3</td>\n",
       "      <td>3</td>\n",
       "      <td>1</td>\n",
       "      <td>1</td>\n",
       "      <td>0</td>\n",
       "      <td>...</td>\n",
       "      <td>0</td>\n",
       "      <td>0</td>\n",
       "      <td>0</td>\n",
       "      <td>0</td>\n",
       "      <td>0</td>\n",
       "      <td>0</td>\n",
       "      <td>0</td>\n",
       "      <td>0</td>\n",
       "      <td>0</td>\n",
       "      <td>0</td>\n",
       "    </tr>\n",
       "    <tr>\n",
       "      <th>185</th>\n",
       "      <td>1,3-xylene</td>\n",
       "      <td>Aromatics</td>\n",
       "      <td>298.15</td>\n",
       "      <td>1.0</td>\n",
       "      <td>10</td>\n",
       "      <td>2</td>\n",
       "      <td>0</td>\n",
       "      <td>0</td>\n",
       "      <td>0</td>\n",
       "      <td>0</td>\n",
       "      <td>...</td>\n",
       "      <td>0</td>\n",
       "      <td>0</td>\n",
       "      <td>0</td>\n",
       "      <td>0</td>\n",
       "      <td>0</td>\n",
       "      <td>0</td>\n",
       "      <td>0</td>\n",
       "      <td>0</td>\n",
       "      <td>0</td>\n",
       "      <td>0</td>\n",
       "    </tr>\n",
       "    <tr>\n",
       "      <th>593</th>\n",
       "      <td>propyl tridecanoate</td>\n",
       "      <td>Esters</td>\n",
       "      <td>NaN</td>\n",
       "      <td>NaN</td>\n",
       "      <td>32</td>\n",
       "      <td>2</td>\n",
       "      <td>13</td>\n",
       "      <td>0</td>\n",
       "      <td>0</td>\n",
       "      <td>0</td>\n",
       "      <td>...</td>\n",
       "      <td>0</td>\n",
       "      <td>1</td>\n",
       "      <td>0</td>\n",
       "      <td>0</td>\n",
       "      <td>1</td>\n",
       "      <td>0</td>\n",
       "      <td>0</td>\n",
       "      <td>0</td>\n",
       "      <td>1</td>\n",
       "      <td>0</td>\n",
       "    </tr>\n",
       "    <tr>\n",
       "      <th>958</th>\n",
       "      <td>2,3-dimethylpentane</td>\n",
       "      <td>Paraffins</td>\n",
       "      <td>258.00</td>\n",
       "      <td>NaN</td>\n",
       "      <td>16</td>\n",
       "      <td>4</td>\n",
       "      <td>1</td>\n",
       "      <td>2</td>\n",
       "      <td>0</td>\n",
       "      <td>0</td>\n",
       "      <td>...</td>\n",
       "      <td>0</td>\n",
       "      <td>0</td>\n",
       "      <td>0</td>\n",
       "      <td>0</td>\n",
       "      <td>0</td>\n",
       "      <td>0</td>\n",
       "      <td>0</td>\n",
       "      <td>0</td>\n",
       "      <td>0</td>\n",
       "      <td>0</td>\n",
       "    </tr>\n",
       "  </tbody>\n",
       "</table>\n",
       "<p>5 rows × 32 columns</p>\n",
       "</div>"
      ],
      "text/plain": [
       "                                          Name               Family  FP Exp.  \\\n",
       "890                      (4R,5R)-diethyloctane            Paraffins      NaN   \n",
       "322  2-(4-methylcyclohex-3-en-1-yl)propan-2-ol  Cyclic (Oxygenates)   367.15   \n",
       "185                                 1,3-xylene            Aromatics   298.15   \n",
       "593                        propyl tridecanoate               Esters      NaN   \n",
       "958                        2,3-dimethylpentane            Paraffins   258.00   \n",
       "\n",
       "     CN Exp.  -H  -CH3  -CH2-  >CH-  >C<  =CH2  ...   -OH (phenol)  -O-  \\\n",
       "890     20.0  26     4      6     2    0     0  ...              0    0   \n",
       "322      NaN  18     3      3     1    1     0  ...              0    0   \n",
       "185      1.0  10     2      0     0    0     0  ...              0    0   \n",
       "593      NaN  32     2     13     0    0     0  ...              0    1   \n",
       "958      NaN  16     4      1     2    0     0  ...              0    0   \n",
       "\n",
       "     (-O-)R  aOa  >C=O  (>C=O)R  -CHO  -COOH  -COO-  aaCa  \n",
       "890       0    0     0        0     0      0      0     0  \n",
       "322       0    0     0        0     0      0      0     0  \n",
       "185       0    0     0        0     0      0      0     0  \n",
       "593       0    0     1        0     0      0      1     0  \n",
       "958       0    0     0        0     0      0      0     0  \n",
       "\n",
       "[5 rows x 32 columns]"
      ]
     },
     "execution_count": 34,
     "metadata": {},
     "output_type": "execute_result"
    }
   ],
   "source": [
    "train.head()"
   ]
  },
  {
   "cell_type": "markdown",
   "metadata": {},
   "source": [
    "## knn"
   ]
  },
  {
   "cell_type": "code",
   "execution_count": 17,
   "metadata": {},
   "outputs": [],
   "source": [
    "# define knn model\n",
    "k = 5\n",
    "knn = KNeighborsClassifier(n_neighbors=k)\n",
    "knn.fit(X_train, y_train)\n",
    "y_pred = knn.predict(X_test)\n",
    "train_pred = knn.predict(X_train)"
   ]
  },
  {
   "cell_type": "code",
   "execution_count": 18,
   "metadata": {},
   "outputs": [
    {
     "data": {
      "text/plain": [
       "0.99137931034482762"
      ]
     },
     "execution_count": 18,
     "metadata": {},
     "output_type": "execute_result"
    }
   ],
   "source": [
    "# print accuracy \n",
    "accu = metrics.accuracy_score(y_test, y_pred)\n",
    "accu"
   ]
  },
  {
   "cell_type": "code",
   "execution_count": 19,
   "metadata": {},
   "outputs": [
    {
     "data": {
      "text/plain": [
       "<matplotlib.legend.Legend at 0x1fc393d7f98>"
      ]
     },
     "execution_count": 19,
     "metadata": {},
     "output_type": "execute_result"
    },
    {
     "data": {
      "image/png": "[encoded data removed]",
      "text/plain": [
       "<matplotlib.figure.Figure at 0x1fc390cb5f8>"
      ]
     },
     "metadata": {},
     "output_type": "display_data"
    }
   ],
   "source": [
    "# plot the train and test set\n",
    "plt.figure(figsize=(10,8))\n",
    "plt.scatter(y_test, y_pred, marker='s', s=100, label='test')\n",
    "plt.scatter(y_train, train_pred, marker='d', s=60,c='orange', label='train')\n",
    "plt.plot([0,7], [0,7], color='k')\n",
    "plt.xticks(rotation='40')\n",
    "plt.legend()"
   ]
  },
  {
   "cell_type": "markdown",
   "metadata": {},
   "source": [
    "### define functions"
   ]
  },
  {
   "cell_type": "code",
   "execution_count": 20,
   "metadata": {
    "collapsed": true
   },
   "outputs": [],
   "source": [
    "def train_knn(k, X_train, y_train):\n",
    "    knn = KNeighborsClassifier(n_neighbors=k)\n",
    "    knn.fit(X_train, y_train)\n",
    "    return knn"
   ]
  },
  {
   "cell_type": "code",
   "execution_count": 21,
   "metadata": {
    "collapsed": true
   },
   "outputs": [],
   "source": [
    "def test_knn(k, X_train, y_train, X_test, y_test):\n",
    "    knn = KNeighborsClassifier(n_neighbors=k)\n",
    "    knn.fit(X_train, y_train)\n",
    "    y_pred = knn.predict(X_test)\n",
    "    train_pred = knn.predict(X_train)\n",
    "    print('Accuracy = ', metrics.accuracy_score(y_test, y_pred))\n",
    "    plt.figure(figsize=(10,8))\n",
    "    plt.scatter(y_test, y_pred, marker='s', s=100, label='test')\n",
    "    plt.scatter(y_train, train_pred, marker='d', s=60,c='orange', label='train')\n",
    "    plt.plot([0,7], [0,7], color='k')\n",
    "    plt.xticks(rotation='40')\n",
    "    plt.legend()\n",
    "    return"
   ]
  },
  {
   "cell_type": "code",
   "execution_count": 27,
   "metadata": {
    "collapsed": true
   },
   "outputs": [],
   "source": [
    "def predict_family_knn(k, X_train, y_train, X):\n",
    "    knn = KNeighborsClassifier(n_neighbors=k)\n",
    "    knn.fit(X_train, y_train)\n",
    "    y_pred = knn.predict(X)\n",
    "    return y_pred"
   ]
  },
  {
   "cell_type": "code",
   "execution_count": 23,
   "metadata": {},
   "outputs": [
    {
     "data": {
      "text/plain": [
       "KNeighborsClassifier(algorithm='auto', leaf_size=30, metric='minkowski',\n",
       "           metric_params=None, n_jobs=1, n_neighbors=5, p=2,\n",
       "           weights='uniform')"
      ]
     },
     "execution_count": 23,
     "metadata": {},
     "output_type": "execute_result"
    }
   ],
   "source": [
    "train_knn(5, X_train, y_train)"
   ]
  },
  {
   "cell_type": "code",
   "execution_count": 24,
   "metadata": {},
   "outputs": [
    {
     "name": "stdout",
     "output_type": "stream",
     "text": [
      "Accuracy =  0.991379310345\n"
     ]
    },
    {
     "data": {
      "image/png": "[encoded data removed]",
      "text/plain": [
       "<matplotlib.figure.Figure at 0x1fc394091d0>"
      ]
     },
     "metadata": {},
     "output_type": "display_data"
    }
   ],
   "source": [
    "test_knn(5, X_train, y_train, X_test, y_test)"
   ]
  },
  {
   "cell_type": "code",
   "execution_count": 39,
   "metadata": {},
   "outputs": [
    {
     "data": {
      "text/html": [
       "<div>\n",
       "<style scoped>\n",
       "    .dataframe tbody tr th:only-of-type {\n",
       "        vertical-align: middle;\n",
       "    }\n",
       "\n",
       "    .dataframe tbody tr th {\n",
       "        vertical-align: top;\n",
       "    }\n",
       "\n",
       "    .dataframe thead th {\n",
       "        text-align: right;\n",
       "    }\n",
       "</style>\n",
       "<table border=\"1\" class=\"dataframe\">\n",
       "  <thead>\n",
       "    <tr style=\"text-align: right;\">\n",
       "      <th></th>\n",
       "      <th>-H</th>\n",
       "      <th>-CH3</th>\n",
       "      <th>-CH2-</th>\n",
       "      <th>&gt;CH-</th>\n",
       "      <th>&gt;C&lt;</th>\n",
       "      <th>=CH2</th>\n",
       "      <th>=CH-</th>\n",
       "      <th>=C&lt;</th>\n",
       "      <th>#CH</th>\n",
       "      <th>#C-</th>\n",
       "      <th>...</th>\n",
       "      <th>-OH (phenol)</th>\n",
       "      <th>-O-</th>\n",
       "      <th>(-O-)R</th>\n",
       "      <th>aOa</th>\n",
       "      <th>&gt;C=O</th>\n",
       "      <th>(&gt;C=O)R</th>\n",
       "      <th>-CHO</th>\n",
       "      <th>-COOH</th>\n",
       "      <th>-COO-</th>\n",
       "      <th>aaCa</th>\n",
       "    </tr>\n",
       "  </thead>\n",
       "  <tbody>\n",
       "    <tr>\n",
       "      <th>890</th>\n",
       "      <td>1</td>\n",
       "      <td>1</td>\n",
       "      <td>1</td>\n",
       "      <td>1</td>\n",
       "      <td>0</td>\n",
       "      <td>0</td>\n",
       "      <td>0</td>\n",
       "      <td>0</td>\n",
       "      <td>0</td>\n",
       "      <td>0</td>\n",
       "      <td>...</td>\n",
       "      <td>0</td>\n",
       "      <td>0</td>\n",
       "      <td>0</td>\n",
       "      <td>0</td>\n",
       "      <td>0</td>\n",
       "      <td>0</td>\n",
       "      <td>0</td>\n",
       "      <td>0</td>\n",
       "      <td>0</td>\n",
       "      <td>0</td>\n",
       "    </tr>\n",
       "    <tr>\n",
       "      <th>322</th>\n",
       "      <td>1</td>\n",
       "      <td>1</td>\n",
       "      <td>1</td>\n",
       "      <td>1</td>\n",
       "      <td>1</td>\n",
       "      <td>0</td>\n",
       "      <td>1</td>\n",
       "      <td>1</td>\n",
       "      <td>0</td>\n",
       "      <td>0</td>\n",
       "      <td>...</td>\n",
       "      <td>0</td>\n",
       "      <td>0</td>\n",
       "      <td>0</td>\n",
       "      <td>0</td>\n",
       "      <td>0</td>\n",
       "      <td>0</td>\n",
       "      <td>0</td>\n",
       "      <td>0</td>\n",
       "      <td>0</td>\n",
       "      <td>0</td>\n",
       "    </tr>\n",
       "    <tr>\n",
       "      <th>185</th>\n",
       "      <td>1</td>\n",
       "      <td>1</td>\n",
       "      <td>0</td>\n",
       "      <td>0</td>\n",
       "      <td>0</td>\n",
       "      <td>0</td>\n",
       "      <td>0</td>\n",
       "      <td>0</td>\n",
       "      <td>0</td>\n",
       "      <td>0</td>\n",
       "      <td>...</td>\n",
       "      <td>0</td>\n",
       "      <td>0</td>\n",
       "      <td>0</td>\n",
       "      <td>0</td>\n",
       "      <td>0</td>\n",
       "      <td>0</td>\n",
       "      <td>0</td>\n",
       "      <td>0</td>\n",
       "      <td>0</td>\n",
       "      <td>0</td>\n",
       "    </tr>\n",
       "  </tbody>\n",
       "</table>\n",
       "<p>3 rows × 28 columns</p>\n",
       "</div>"
      ],
      "text/plain": [
       "     -H  -CH3  -CH2-  >CH-  >C<  =CH2  =CH-  =C<  #CH  #C-  ...   \\\n",
       "890   1     1      1     1    0     0     0    0    0    0  ...    \n",
       "322   1     1      1     1    1     0     1    1    0    0  ...    \n",
       "185   1     1      0     0    0     0     0    0    0    0  ...    \n",
       "\n",
       "     -OH (phenol)  -O-  (-O-)R  aOa  >C=O  (>C=O)R  -CHO  -COOH  -COO-  aaCa  \n",
       "890             0    0       0    0     0        0     0      0      0     0  \n",
       "322             0    0       0    0     0        0     0      0      0     0  \n",
       "185             0    0       0    0     0        0     0      0      0     0  \n",
       "\n",
       "[3 rows x 28 columns]"
      ]
     },
     "execution_count": 39,
     "metadata": {},
     "output_type": "execute_result"
    }
   ],
   "source": [
    "X=X_train.iloc[0:3,:]\n",
    "X"
   ]
  },
  {
   "cell_type": "code",
   "execution_count": 40,
   "metadata": {},
   "outputs": [
    {
     "data": {
      "text/plain": [
       "array(['Paraffins', 'Naphtenes', 'Aromatics'], dtype=object)"
      ]
     },
     "execution_count": 40,
     "metadata": {},
     "output_type": "execute_result"
    }
   ],
   "source": [
    "predict_family_knn(k, X_train, y_train, X)"
   ]
  },
  {
   "cell_type": "code",
   "execution_count": null,
   "metadata": {
    "collapsed": true
   },
   "outputs": [],
   "source": []
  },
  {
   "cell_type": "code",
   "execution_count": null,
   "metadata": {
    "collapsed": true
   },
   "outputs": [],
   "source": []
  },
  {
   "cell_type": "code",
   "execution_count": null,
   "metadata": {
    "collapsed": true
   },
   "outputs": [],
   "source": []
  },
  {
   "cell_type": "code",
   "execution_count": null,
   "metadata": {
    "collapsed": true
   },
   "outputs": [],
   "source": []
  }
 ],
 "metadata": {
  "kernelspec": {
   "display_name": "Python 3",
   "language": "python",
   "name": "python3"
  },
  "language_info": {
   "codemirror_mode": {
    "name": "ipython",
    "version": 3
   },
   "file_extension": ".py",
   "mimetype": "text/x-python",
   "name": "python",
   "nbconvert_exporter": "python",
   "pygments_lexer": "ipython3",
   "version": "3.6.3"
  }
 },
 "nbformat": 4,
 "nbformat_minor": 2
}
