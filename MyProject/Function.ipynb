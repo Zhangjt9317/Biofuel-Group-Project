{
 "cells": [
  {
   "cell_type": "code",
   "execution_count": 1,
   "metadata": {},
   "outputs": [],
   "source": [
    "def check_input(CID):\n",
    "    \"\"\"Check the CID number is correct\"\"\"\n",
    "    if type(CID) == str:\n",
    "        print('Please check the CID number and insert again :)')\n",
    "    elif len(\"CID\") == 10 or CID <= 0:\n",
    "        print('Please check you CID number make sure you input the correct CID number')\n",
    "    else:\n",
    "        return CID"
   ]
  },
  {
   "cell_type": "code",
   "execution_count": null,
   "metadata": {},
   "outputs": [],
   "source": []
  }
 ],
 "metadata": {
  "kernelspec": {
   "display_name": "Python 3",
   "language": "python",
   "name": "python3"
  },
  "language_info": {
   "codemirror_mode": {
    "name": "ipython",
    "version": 3
   },
   "file_extension": ".py",
   "mimetype": "text/x-python",
   "name": "python",
   "nbconvert_exporter": "python",
   "pygments_lexer": "ipython3",
   "version": "3.6.3"
  }
 },
 "nbformat": 4,
 "nbformat_minor": 2
}
